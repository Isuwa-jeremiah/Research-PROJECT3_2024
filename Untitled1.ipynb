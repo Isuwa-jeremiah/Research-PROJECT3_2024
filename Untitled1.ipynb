{
 "cells": [
  {
   "cell_type": "code",
   "execution_count": 1,
   "id": "2216ca4c",
   "metadata": {},
   "outputs": [],
   "source": [
    "import numpy as np\n",
    "import pandas as pd\n",
    "import seaborn as sns\n",
    "import matplotlib.pyplot as plt\n",
    "from tqdm import tqdm\n",
    "import random\n",
    "from IPython.display import display\n",
    "from sklearn.preprocessing import LabelEncoder, StandardScaler, MinMaxScaler\n",
    "from sklearn.neighbors import KNeighborsClassifier\n",
    "from sklearn.feature_selection import chi2, mutual_info_classif, f_classif, SelectKBest\n",
    "from sklearn.model_selection import train_test_split, KFold\n",
    "from sklearn.neighbors import KNeighborsClassifier\n",
    "from sklearn.utils.validation import column_or_1d\n",
    "from sklearn.utils import resample\n",
    "from sklearn.ensemble import RandomForestClassifier\n",
    "from sklearn.metrics import accuracy_score\n",
    "from sklearn.metrics import confusion_matrix, classification_report\n",
    "from FS.ja import jfs \n",
    "from sklearn.metrics import f1_score, recall_score, precision_score, accuracy_score\n",
    "from imblearn.over_sampling import SMOTE\n",
    "\n",
    "from tensorflow.keras.models import Sequential\n",
    "from tensorflow.keras.layers import Dense, Dropout\n",
    "from sklearn.model_selection import train_test_split\n",
    "\n",
    "random_state = 42\n",
    "\n",
    "import warnings\n",
    "warnings.simplefilter('ignore')"
   ]
  },
  {
   "cell_type": "code",
   "execution_count": 2,
   "id": "2c3a0997",
   "metadata": {},
   "outputs": [
    {
     "data": {
      "text/html": [
       "<div>\n",
       "<style scoped>\n",
       "    .dataframe tbody tr th:only-of-type {\n",
       "        vertical-align: middle;\n",
       "    }\n",
       "\n",
       "    .dataframe tbody tr th {\n",
       "        vertical-align: top;\n",
       "    }\n",
       "\n",
       "    .dataframe thead th {\n",
       "        text-align: right;\n",
       "    }\n",
       "</style>\n",
       "<table border=\"1\" class=\"dataframe\">\n",
       "  <thead>\n",
       "    <tr style=\"text-align: right;\">\n",
       "      <th></th>\n",
       "      <th>metastasis</th>\n",
       "      <th>age</th>\n",
       "      <th>menopause</th>\n",
       "      <th>TNEG</th>\n",
       "      <th>ER</th>\n",
       "      <th>PR</th>\n",
       "      <th>P53</th>\n",
       "      <th>HER2</th>\n",
       "      <th>stage</th>\n",
       "      <th>node_status</th>\n",
       "      <th>...</th>\n",
       "      <th>surgery</th>\n",
       "      <th>breast_chest_radi</th>\n",
       "      <th>nodal_radi</th>\n",
       "      <th>chemo</th>\n",
       "      <th>antihormone</th>\n",
       "      <th>HER2_Inhib</th>\n",
       "      <th>neo</th>\n",
       "      <th>X</th>\n",
       "      <th>XX</th>\n",
       "      <th>Unnamed: 26</th>\n",
       "    </tr>\n",
       "  </thead>\n",
       "  <tbody>\n",
       "    <tr>\n",
       "      <th>0</th>\n",
       "      <td>NO</td>\n",
       "      <td>three</td>\n",
       "      <td>POST</td>\n",
       "      <td>NO</td>\n",
       "      <td>POSITIVE</td>\n",
       "      <td>POSITIVE</td>\n",
       "      <td>NEGATIVE</td>\n",
       "      <td>NEGATIVE</td>\n",
       "      <td>one</td>\n",
       "      <td>NEGATIVE</td>\n",
       "      <td>...</td>\n",
       "      <td>RESIDUAL</td>\n",
       "      <td>TUMOR</td>\n",
       "      <td>CONSERVATION</td>\n",
       "      <td>YES</td>\n",
       "      <td>NO</td>\n",
       "      <td>NO</td>\n",
       "      <td>YES</td>\n",
       "      <td>NO</td>\n",
       "      <td>NO</td>\n",
       "      <td>NaN</td>\n",
       "    </tr>\n",
       "    <tr>\n",
       "      <th>1</th>\n",
       "      <td>NO</td>\n",
       "      <td>two</td>\n",
       "      <td>POST</td>\n",
       "      <td>NO</td>\n",
       "      <td>POSITIVE</td>\n",
       "      <td>POSITIVE</td>\n",
       "      <td>NEGATIVE</td>\n",
       "      <td>NEGATIVE</td>\n",
       "      <td>three</td>\n",
       "      <td>POSITIVE</td>\n",
       "      <td>...</td>\n",
       "      <td>RESIDUAL</td>\n",
       "      <td>TUMOR</td>\n",
       "      <td>CONSERVATION</td>\n",
       "      <td>NO</td>\n",
       "      <td>NO</td>\n",
       "      <td>YES</td>\n",
       "      <td>NO</td>\n",
       "      <td>NO</td>\n",
       "      <td>NO</td>\n",
       "      <td>NaN</td>\n",
       "    </tr>\n",
       "    <tr>\n",
       "      <th>2</th>\n",
       "      <td>NO</td>\n",
       "      <td>one</td>\n",
       "      <td>PRE</td>\n",
       "      <td>NO</td>\n",
       "      <td>POSITIVE</td>\n",
       "      <td>POSITIVE</td>\n",
       "      <td>NEGATIVE</td>\n",
       "      <td>NEGATIVE</td>\n",
       "      <td>one</td>\n",
       "      <td>POSITIVE</td>\n",
       "      <td>...</td>\n",
       "      <td>RESIDUAL</td>\n",
       "      <td>TUMOR</td>\n",
       "      <td>CONSERVATION</td>\n",
       "      <td>YES</td>\n",
       "      <td>NO</td>\n",
       "      <td>NO</td>\n",
       "      <td>NO</td>\n",
       "      <td>NO</td>\n",
       "      <td>NO</td>\n",
       "      <td>NaN</td>\n",
       "    </tr>\n",
       "  </tbody>\n",
       "</table>\n",
       "<p>3 rows × 27 columns</p>\n",
       "</div>"
      ],
      "text/plain": [
       "  metastasis    age menopause TNEG        ER        PR       P53      HER2  \\\n",
       "0         NO  three      POST   NO  POSITIVE  POSITIVE  NEGATIVE  NEGATIVE   \n",
       "1         NO    two      POST   NO  POSITIVE  POSITIVE  NEGATIVE  NEGATIVE   \n",
       "2         NO    one       PRE   NO  POSITIVE  POSITIVE  NEGATIVE  NEGATIVE   \n",
       "\n",
       "   stage node_status  ...   surgery breast_chest_radi    nodal_radi chemo  \\\n",
       "0    one    NEGATIVE  ...  RESIDUAL             TUMOR  CONSERVATION   YES   \n",
       "1  three    POSITIVE  ...  RESIDUAL             TUMOR  CONSERVATION    NO   \n",
       "2    one    POSITIVE  ...  RESIDUAL             TUMOR  CONSERVATION   YES   \n",
       "\n",
       "  antihormone HER2_Inhib  neo   X  XX Unnamed: 26  \n",
       "0          NO         NO  YES  NO  NO         NaN  \n",
       "1          NO        YES   NO  NO  NO         NaN  \n",
       "2          NO         NO   NO  NO  NO         NaN  \n",
       "\n",
       "[3 rows x 27 columns]"
      ]
     },
     "execution_count": 2,
     "metadata": {},
     "output_type": "execute_result"
    }
   ],
   "source": [
    "url = 'Datasets/LSDS-5YDM_new.csv'\n",
    "data = pd.read_csv(url)\n",
    "data.head(3)"
   ]
  },
  {
   "cell_type": "code",
   "execution_count": 3,
   "id": "9d040b39",
   "metadata": {},
   "outputs": [
    {
     "data": {
      "text/plain": [
       "(6726, 27)"
      ]
     },
     "execution_count": 3,
     "metadata": {},
     "output_type": "execute_result"
    }
   ],
   "source": [
    "data.shape"
   ]
  },
  {
   "cell_type": "code",
   "execution_count": 4,
   "id": "5bdb34ac",
   "metadata": {},
   "outputs": [
    {
     "data": {
      "text/html": [
       "<div>\n",
       "<style scoped>\n",
       "    .dataframe tbody tr th:only-of-type {\n",
       "        vertical-align: middle;\n",
       "    }\n",
       "\n",
       "    .dataframe tbody tr th {\n",
       "        vertical-align: top;\n",
       "    }\n",
       "\n",
       "    .dataframe thead th {\n",
       "        text-align: right;\n",
       "    }\n",
       "</style>\n",
       "<table border=\"1\" class=\"dataframe\">\n",
       "  <thead>\n",
       "    <tr style=\"text-align: right;\">\n",
       "      <th></th>\n",
       "      <th>metastasis</th>\n",
       "      <th>age</th>\n",
       "      <th>menopause</th>\n",
       "      <th>TNEG</th>\n",
       "      <th>ER</th>\n",
       "      <th>PR</th>\n",
       "      <th>P53</th>\n",
       "      <th>HER2</th>\n",
       "      <th>stage</th>\n",
       "      <th>node_status</th>\n",
       "      <th>...</th>\n",
       "      <th>grade</th>\n",
       "      <th>invasive</th>\n",
       "      <th>surgical_margins</th>\n",
       "      <th>surgery</th>\n",
       "      <th>breast_chest_radi</th>\n",
       "      <th>nodal_radi</th>\n",
       "      <th>chemo</th>\n",
       "      <th>antihormone</th>\n",
       "      <th>HER2_Inhib</th>\n",
       "      <th>neo</th>\n",
       "    </tr>\n",
       "  </thead>\n",
       "  <tbody>\n",
       "    <tr>\n",
       "      <th>0</th>\n",
       "      <td>NO</td>\n",
       "      <td>three</td>\n",
       "      <td>POST</td>\n",
       "      <td>NO</td>\n",
       "      <td>POSITIVE</td>\n",
       "      <td>POSITIVE</td>\n",
       "      <td>NEGATIVE</td>\n",
       "      <td>NEGATIVE</td>\n",
       "      <td>one</td>\n",
       "      <td>NEGATIVE</td>\n",
       "      <td>...</td>\n",
       "      <td>two</td>\n",
       "      <td>YES</td>\n",
       "      <td>NO</td>\n",
       "      <td>RESIDUAL</td>\n",
       "      <td>TUMOR</td>\n",
       "      <td>CONSERVATION</td>\n",
       "      <td>YES</td>\n",
       "      <td>NO</td>\n",
       "      <td>NO</td>\n",
       "      <td>YES</td>\n",
       "    </tr>\n",
       "    <tr>\n",
       "      <th>1</th>\n",
       "      <td>NO</td>\n",
       "      <td>two</td>\n",
       "      <td>POST</td>\n",
       "      <td>NO</td>\n",
       "      <td>POSITIVE</td>\n",
       "      <td>POSITIVE</td>\n",
       "      <td>NEGATIVE</td>\n",
       "      <td>NEGATIVE</td>\n",
       "      <td>three</td>\n",
       "      <td>POSITIVE</td>\n",
       "      <td>...</td>\n",
       "      <td>one</td>\n",
       "      <td>YES</td>\n",
       "      <td>NO</td>\n",
       "      <td>RESIDUAL</td>\n",
       "      <td>TUMOR</td>\n",
       "      <td>CONSERVATION</td>\n",
       "      <td>NO</td>\n",
       "      <td>NO</td>\n",
       "      <td>YES</td>\n",
       "      <td>NO</td>\n",
       "    </tr>\n",
       "    <tr>\n",
       "      <th>2</th>\n",
       "      <td>NO</td>\n",
       "      <td>one</td>\n",
       "      <td>PRE</td>\n",
       "      <td>NO</td>\n",
       "      <td>POSITIVE</td>\n",
       "      <td>POSITIVE</td>\n",
       "      <td>NEGATIVE</td>\n",
       "      <td>NEGATIVE</td>\n",
       "      <td>one</td>\n",
       "      <td>POSITIVE</td>\n",
       "      <td>...</td>\n",
       "      <td>one</td>\n",
       "      <td>YES</td>\n",
       "      <td>NO</td>\n",
       "      <td>RESIDUAL</td>\n",
       "      <td>TUMOR</td>\n",
       "      <td>CONSERVATION</td>\n",
       "      <td>YES</td>\n",
       "      <td>NO</td>\n",
       "      <td>NO</td>\n",
       "      <td>NO</td>\n",
       "    </tr>\n",
       "  </tbody>\n",
       "</table>\n",
       "<p>3 rows × 24 columns</p>\n",
       "</div>"
      ],
      "text/plain": [
       "  metastasis    age menopause TNEG        ER        PR       P53      HER2  \\\n",
       "0         NO  three      POST   NO  POSITIVE  POSITIVE  NEGATIVE  NEGATIVE   \n",
       "1         NO    two      POST   NO  POSITIVE  POSITIVE  NEGATIVE  NEGATIVE   \n",
       "2         NO    one       PRE   NO  POSITIVE  POSITIVE  NEGATIVE  NEGATIVE   \n",
       "\n",
       "   stage node_status  ... grade invasive surgical_margins   surgery  \\\n",
       "0    one    NEGATIVE  ...   two      YES               NO  RESIDUAL   \n",
       "1  three    POSITIVE  ...   one      YES               NO  RESIDUAL   \n",
       "2    one    POSITIVE  ...   one      YES               NO  RESIDUAL   \n",
       "\n",
       "  breast_chest_radi    nodal_radi chemo antihormone HER2_Inhib  neo  \n",
       "0             TUMOR  CONSERVATION   YES          NO         NO  YES  \n",
       "1             TUMOR  CONSERVATION    NO          NO        YES   NO  \n",
       "2             TUMOR  CONSERVATION   YES          NO         NO   NO  \n",
       "\n",
       "[3 rows x 24 columns]"
      ]
     },
     "execution_count": 4,
     "metadata": {},
     "output_type": "execute_result"
    }
   ],
   "source": [
    "data = data.drop(['X','XX','Unnamed: 26'], axis = 1)\n",
    "data.head(3)"
   ]
  },
  {
   "cell_type": "code",
   "execution_count": 7,
   "id": "9d8c3677",
   "metadata": {},
   "outputs": [
    {
     "name": "stdout",
     "output_type": "stream",
     "text": [
      "This dataset has 24 columns\n"
     ]
    }
   ],
   "source": [
    "print(f'This dataset has {data.shape[1]} columns')"
   ]
  },
  {
   "cell_type": "code",
   "execution_count": 8,
   "id": "20fa59fe",
   "metadata": {},
   "outputs": [
    {
     "data": {
      "text/plain": [
       "array([6193,  533], dtype=int64)"
      ]
     },
     "execution_count": 8,
     "metadata": {},
     "output_type": "execute_result"
    }
   ],
   "source": [
    "data.metastasis.value_counts().unique()"
   ]
  },
  {
   "cell_type": "code",
   "execution_count": 9,
   "id": "6b6ab3dd",
   "metadata": {},
   "outputs": [
    {
     "data": {
      "text/plain": [
       "NO     6193\n",
       "YES     533\n",
       "Name: metastasis, dtype: int64"
      ]
     },
     "execution_count": 9,
     "metadata": {},
     "output_type": "execute_result"
    }
   ],
   "source": [
    "data.metastasis.value_counts()"
   ]
  },
  {
   "cell_type": "code",
   "execution_count": 10,
   "id": "20f7ec88",
   "metadata": {},
   "outputs": [
    {
     "data": {
      "text/plain": [
       "<AxesSubplot:>"
      ]
     },
     "execution_count": 10,
     "metadata": {},
     "output_type": "execute_result"
    },
    {
     "data": {
      "image/png": "[encoded data removed]",
      "text/plain": [
       "<Figure size 640x480 with 1 Axes>"
      ]
     },
     "metadata": {},
     "output_type": "display_data"
    }
   ],
   "source": [
    "data.metastasis.value_counts().plot(kind = 'bar', color = ['red', 'blue'])"
   ]
  },
  {
   "cell_type": "code",
   "execution_count": 11,
   "id": "97827ba8",
   "metadata": {},
   "outputs": [],
   "source": [
    "column_names = list(data.columns)"
   ]
  },
  {
   "cell_type": "code",
   "execution_count": 12,
   "id": "318be64c",
   "metadata": {},
   "outputs": [],
   "source": [
    "#data.isnull().sum()"
   ]
  },
  {
   "cell_type": "code",
   "execution_count": 13,
   "id": "a70db382",
   "metadata": {},
   "outputs": [
    {
     "data": {
      "text/html": [
       "<div>\n",
       "<style scoped>\n",
       "    .dataframe tbody tr th:only-of-type {\n",
       "        vertical-align: middle;\n",
       "    }\n",
       "\n",
       "    .dataframe tbody tr th {\n",
       "        vertical-align: top;\n",
       "    }\n",
       "\n",
       "    .dataframe thead th {\n",
       "        text-align: right;\n",
       "    }\n",
       "</style>\n",
       "<table border=\"1\" class=\"dataframe\">\n",
       "  <thead>\n",
       "    <tr style=\"text-align: right;\">\n",
       "      <th></th>\n",
       "      <th>metastasis</th>\n",
       "      <th>age</th>\n",
       "      <th>menopause</th>\n",
       "      <th>TNEG</th>\n",
       "      <th>ER</th>\n",
       "      <th>PR</th>\n",
       "      <th>P53</th>\n",
       "      <th>HER2</th>\n",
       "      <th>stage</th>\n",
       "      <th>node_status</th>\n",
       "      <th>...</th>\n",
       "      <th>grade</th>\n",
       "      <th>invasive</th>\n",
       "      <th>surgical_margins</th>\n",
       "      <th>surgery</th>\n",
       "      <th>breast_chest_radi</th>\n",
       "      <th>nodal_radi</th>\n",
       "      <th>chemo</th>\n",
       "      <th>antihormone</th>\n",
       "      <th>HER2_Inhib</th>\n",
       "      <th>neo</th>\n",
       "    </tr>\n",
       "  </thead>\n",
       "  <tbody>\n",
       "    <tr>\n",
       "      <th>0</th>\n",
       "      <td>0</td>\n",
       "      <td>1</td>\n",
       "      <td>0</td>\n",
       "      <td>0</td>\n",
       "      <td>1</td>\n",
       "      <td>1</td>\n",
       "      <td>0</td>\n",
       "      <td>0</td>\n",
       "      <td>0</td>\n",
       "      <td>0</td>\n",
       "      <td>...</td>\n",
       "      <td>2</td>\n",
       "      <td>1</td>\n",
       "      <td>0</td>\n",
       "      <td>1</td>\n",
       "      <td>3</td>\n",
       "      <td>0</td>\n",
       "      <td>2</td>\n",
       "      <td>0</td>\n",
       "      <td>0</td>\n",
       "      <td>1</td>\n",
       "    </tr>\n",
       "    <tr>\n",
       "      <th>1</th>\n",
       "      <td>0</td>\n",
       "      <td>2</td>\n",
       "      <td>0</td>\n",
       "      <td>0</td>\n",
       "      <td>1</td>\n",
       "      <td>1</td>\n",
       "      <td>0</td>\n",
       "      <td>0</td>\n",
       "      <td>1</td>\n",
       "      <td>1</td>\n",
       "      <td>...</td>\n",
       "      <td>0</td>\n",
       "      <td>1</td>\n",
       "      <td>0</td>\n",
       "      <td>1</td>\n",
       "      <td>3</td>\n",
       "      <td>0</td>\n",
       "      <td>0</td>\n",
       "      <td>0</td>\n",
       "      <td>1</td>\n",
       "      <td>0</td>\n",
       "    </tr>\n",
       "    <tr>\n",
       "      <th>2</th>\n",
       "      <td>0</td>\n",
       "      <td>0</td>\n",
       "      <td>1</td>\n",
       "      <td>0</td>\n",
       "      <td>1</td>\n",
       "      <td>1</td>\n",
       "      <td>0</td>\n",
       "      <td>0</td>\n",
       "      <td>0</td>\n",
       "      <td>1</td>\n",
       "      <td>...</td>\n",
       "      <td>0</td>\n",
       "      <td>1</td>\n",
       "      <td>0</td>\n",
       "      <td>1</td>\n",
       "      <td>3</td>\n",
       "      <td>0</td>\n",
       "      <td>2</td>\n",
       "      <td>0</td>\n",
       "      <td>0</td>\n",
       "      <td>0</td>\n",
       "    </tr>\n",
       "  </tbody>\n",
       "</table>\n",
       "<p>3 rows × 24 columns</p>\n",
       "</div>"
      ],
      "text/plain": [
       "   metastasis  age  menopause  TNEG  ER  PR  P53  HER2  stage  node_status  \\\n",
       "0           0    1          0     0   1   1    0     0      0            0   \n",
       "1           0    2          0     0   1   1    0     0      1            1   \n",
       "2           0    0          1     0   1   1    0     0      0            1   \n",
       "\n",
       "   ...  grade  invasive  surgical_margins  surgery  breast_chest_radi  \\\n",
       "0  ...      2         1                 0        1                  3   \n",
       "1  ...      0         1                 0        1                  3   \n",
       "2  ...      0         1                 0        1                  3   \n",
       "\n",
       "   nodal_radi  chemo  antihormone  HER2_Inhib  neo  \n",
       "0           0      2            0           0    1  \n",
       "1           0      0            0           1    0  \n",
       "2           0      2            0           0    0  \n",
       "\n",
       "[3 rows x 24 columns]"
      ]
     },
     "execution_count": 13,
     "metadata": {},
     "output_type": "execute_result"
    }
   ],
   "source": [
    "#Here we encode all our variables into numeric forms\n",
    "le = LabelEncoder()\n",
    "for i in column_names:\n",
    "    data[i]= le.fit_transform(data[i])\n",
    "\n",
    "data.head(3) #Checking our encoded datasets"
   ]
  },
  {
   "cell_type": "code",
   "execution_count": 14,
   "id": "1ee0f6d2",
   "metadata": {},
   "outputs": [
    {
     "data": {
      "text/plain": [
       "(6726, 24)"
      ]
     },
     "execution_count": 14,
     "metadata": {},
     "output_type": "execute_result"
    }
   ],
   "source": [
    "data.shape"
   ]
  },
  {
   "cell_type": "code",
   "execution_count": 15,
   "id": "9c32b654",
   "metadata": {},
   "outputs": [],
   "source": [
    "data_copy = data.copy"
   ]
  },
  {
   "cell_type": "code",
   "execution_count": 16,
   "id": "40a0fbb2",
   "metadata": {},
   "outputs": [],
   "source": [
    "#Now we split out dataset into features and target class\n",
    "features = data.drop(['metastasis'],axis = 1) #Selecting all independent varibles\n",
    "target = data.loc[:,['metastasis']] #Picking only the target class"
   ]
  },
  {
   "cell_type": "code",
   "execution_count": 17,
   "id": "94d521c4",
   "metadata": {},
   "outputs": [],
   "source": [
    "#then we scale our dataset\n",
    "min_max_scale = MinMaxScaler()\n",
    "data_scaled_ = min_max_scale.fit_transform(features)\n",
    "data_scaled = pd.DataFrame(data_scaled_, columns = features.columns)\n",
    "#data_scaled.head(3)"
   ]
  },
  {
   "cell_type": "code",
   "execution_count": 18,
   "id": "4e367e3b",
   "metadata": {},
   "outputs": [],
   "source": [
    "#data_scaled_ "
   ]
  },
  {
   "cell_type": "markdown",
   "id": "8727d11f",
   "metadata": {},
   "source": [
    "### Now we start our feature importance ranking using the 3 methods i.e., filter, RF gini-index, and JA"
   ]
  },
  {
   "cell_type": "code",
   "execution_count": 19,
   "id": "49c3b21f",
   "metadata": {},
   "outputs": [],
   "source": [
    "#We start with the filter method i.e. Chi-square test\n",
    "data_chi = SelectKBest(score_func = chi2)\n",
    "data_chi.fit(data_scaled, target)\n",
    "Table_score = pd.DataFrame(data_chi.scores_)\n",
    "Table_names = pd.DataFrame(features.columns)\n",
    "chi_table = pd.concat([Table_names, Table_score], axis = 1)\n",
    "chi_table.columns = ['Feature_Names', 'Scores']\n",
    "chi_table.sort_values(by = 'Scores', ascending = False, inplace = True)\n",
    "#chi_table"
   ]
  },
  {
   "cell_type": "code",
   "execution_count": 22,
   "id": "d88fcb57",
   "metadata": {},
   "outputs": [
    {
     "data": {
      "image/png": "[encoded data removed]",
      "text/plain": [
       "<Figure size 800x600 with 1 Axes>"
      ]
     },
     "metadata": {},
     "output_type": "display_data"
    }
   ],
   "source": [
    "#Plotting a bar chart\n",
    "Feature_bar = list(chi_table.Feature_Names)\n",
    "Score_bar = list(chi_table.Scores)\n",
    "\n",
    "plt.figure(figsize=(8, 6))\n",
    "plt.bar(Feature_bar, Score_bar, color='skyblue')\n",
    "plt.xticks(rotation=90, ha='right')  # Slant x-axis labels at 45 degrees\n",
    "plt.xlabel('Feature Names')\n",
    "plt.ylabel('Scores')\n",
    "plt.title('Scores of features using the Chi-Square FIM')\n",
    "plt.tight_layout()  # Adjust layout to prevent overlapping labels\n",
    "plt.show()"
   ]
  },
  {
   "cell_type": "code",
   "execution_count": 23,
   "id": "0bc0e91d",
   "metadata": {},
   "outputs": [],
   "source": [
    "#Features selected by the Chi-square filter method\n",
    "Selected_feature_ChiSquare = data_scaled[['antihormone', 'TNEG',\n",
    "                                          'node_status','P53',\n",
    "                                          'size','nodal_radi',\n",
    "                                          'PR','HER2_Inhib',\n",
    "                                          'ER','node_positive']]\n",
    "#Selected_feature_ChiSquare "
   ]
  },
  {
   "cell_type": "code",
   "execution_count": 24,
   "id": "7605bf40",
   "metadata": {},
   "outputs": [],
   "source": [
    "#Selected_feature_ChiSquare"
   ]
  },
  {
   "cell_type": "code",
   "execution_count": 26,
   "id": "6fce4711",
   "metadata": {},
   "outputs": [
    {
     "data": {
      "image/png": "[encoded data removed]",
      "text/plain": [
       "<Figure size 800x600 with 1 Axes>"
      ]
     },
     "metadata": {},
     "output_type": "display_data"
    }
   ],
   "source": [
    "#Next we use the Random Forest with Gini Index for feature importance ranking\n",
    "rf_classifier =RandomForestClassifier(n_estimators = 100, criterion = 'gini', random_state = random_state)\n",
    "rf_classifier.fit(data_scaled, target)\n",
    "feature_importance = rf_classifier.feature_importances_\n",
    "\n",
    "feature_importance_table = pd.DataFrame({'Feature_names':features.columns, 'Scores/Importance':feature_importance})\n",
    "feature_importance_table = feature_importance_table.sort_values(by = 'Scores/Importance', ascending = False)\n",
    "\n",
    "plt.figure(figsize = (8,6))\n",
    "plt.bar(feature_importance_table['Feature_names'], feature_importance_table['Scores/Importance'], color = 'skyblue')\n",
    "plt.xlabel('Feature Names')\n",
    "plt.ylabel('Scores/Importance')\n",
    "plt.title('Feature Importance - Random Forest (Gini Index)')\n",
    "plt.xticks(rotation = 90, ha = 'right')\n",
    "plt.tight_layout()\n",
    "plt.show()"
   ]
  },
  {
   "cell_type": "code",
   "execution_count": 27,
   "id": "78535015",
   "metadata": {},
   "outputs": [],
   "source": [
    "#Features selected by the RF-GiniIndex\n",
    "Selected_feature_RF_GiniIndex = data_scaled[['grade','age',\n",
    "                                          'node_removed','nodal_radi',\n",
    "                                          'HER2_Inhib','stage',\n",
    "                                          'size','P53',\n",
    "                                          'node_positive','chemo']]"
   ]
  },
  {
   "cell_type": "code",
   "execution_count": 28,
   "id": "57394f90",
   "metadata": {},
   "outputs": [],
   "source": [
    "#Selected_feature_RF_GiniIndex"
   ]
  },
  {
   "cell_type": "code",
   "execution_count": 29,
   "id": "f4545a2f",
   "metadata": {},
   "outputs": [
    {
     "name": "stdout",
     "output_type": "stream",
     "text": [
      "Training set:(4708, 23)\n",
      "Testing set:(2018, 23)\n",
      "Training_Label set:(4708,)\n",
      "Testing_Lable set:(2018,)\n"
     ]
    }
   ],
   "source": [
    "#Now we use our Jaya Algorithm for a selection\n",
    "#First we need to split our data into train and test sets\n",
    "target_JA = np.ravel(target)\n",
    "x_train, x_test, y_train, y_test = train_test_split(data_scaled_, \n",
    "                                                    target_JA, \n",
    "                                                    random_state = random_state, \n",
    "                                                    test_size = .3, \n",
    "                                                    stratify = target_JA)\n",
    "\n",
    "fold = {'xt': x_train, 'yt': y_train, 'xv': x_test, 'yv': y_test}\n",
    "print(f'Training set:{x_train.shape}')\n",
    "print(f'Testing set:{x_test.shape}')\n",
    "print(f'Training_Label set:{y_train.shape}')\n",
    "print(f'Testing_Lable set:{y_test.shape}')"
   ]
  },
  {
   "cell_type": "code",
   "execution_count": 39,
   "id": "46aa5105",
   "metadata": {},
   "outputs": [],
   "source": [
    "#Now we set the general parameters\n",
    "K = 5 #K value in KNN\n",
    "N = 20 #Population size/swarm size\n",
    "T = 20 #Max iteration/generations\n",
    "\n",
    "\n",
    "#NOTE THAT SSA DO NOT HAVE ANY SPECIFIC PARAMETERS\n",
    "opts = {'k': K, 'fold': fold, 'N': N, 'T': T}"
   ]
  },
  {
   "cell_type": "code",
   "execution_count": 40,
   "id": "7d37c4ad",
   "metadata": {},
   "outputs": [
    {
     "name": "stdout",
     "output_type": "stream",
     "text": [
      "Generation: 1\n",
      "Best (JA): 0.08665445770672636\n",
      "Generation: 2\n",
      "Best (JA): 0.08529430775197139\n",
      "Generation: 3\n",
      "Best (JA): 0.0839341577972164\n",
      "Generation: 4\n",
      "Best (JA): 0.08333196880251643\n",
      "Generation: 5\n",
      "Best (JA): 0.08191601671909343\n",
      "Generation: 6\n",
      "Best (JA): 0.08087904511569781\n",
      "Generation: 7\n",
      "Best (JA): 0.08087904511569781\n",
      "Generation: 8\n",
      "Best (JA): 0.08087904511569781\n",
      "Generation: 9\n",
      "Best (JA): 0.08087904511569781\n",
      "Generation: 10\n",
      "Best (JA): 0.08087904511569781\n",
      "Generation: 11\n",
      "Best (JA): 0.08087904511569781\n",
      "Generation: 12\n",
      "Best (JA): 0.08087904511569781\n",
      "Generation: 13\n",
      "Best (JA): 0.08087904511569781\n",
      "Generation: 14\n",
      "Best (JA): 0.08087904511569781\n",
      "Generation: 15\n",
      "Best (JA): 0.08087904511569781\n",
      "Generation: 16\n",
      "Best (JA): 0.08087904511569781\n",
      "Generation: 17\n",
      "Best (JA): 0.08087904511569781\n",
      "Generation: 18\n",
      "Best (JA): 0.08087904511569781\n",
      "Generation: 19\n",
      "Best (JA): 0.08087904511569781\n",
      "Generation: 20\n",
      "Best (JA): 0.08087904511569781\n"
     ]
    }
   ],
   "source": [
    "#Now we perform our feature selection by calling the module jfs\n",
    "feature_selection_mdl = jfs(data_scaled_, target_JA, opts) #feature selection model\n",
    "sf = feature_selection_mdl['sf'] #index of selected features"
   ]
  },
  {
   "cell_type": "code",
   "execution_count": 41,
   "id": "2b4b7d7f",
   "metadata": {},
   "outputs": [
    {
     "data": {
      "text/plain": [
       "[0, 1, 5, 7, 9, 12, 15, 16, 17, 18]"
      ]
     },
     "execution_count": 41,
     "metadata": {},
     "output_type": "execute_result"
    }
   ],
   "source": [
    "#print(sf)\n",
    "list(sf) #Indexes of selected features "
   ]
  },
  {
   "cell_type": "code",
   "execution_count": 42,
   "id": "1c7ffef5",
   "metadata": {},
   "outputs": [
    {
     "data": {
      "text/plain": [
       "Index(['age', 'menopause', 'P53', 'stage', 'node_positive', 'size',\n",
       "       'surgical_margins', 'surgery', 'breast_chest_radi', 'nodal_radi'],\n",
       "      dtype='object')"
      ]
     },
     "execution_count": 42,
     "metadata": {},
     "output_type": "execute_result"
    }
   ],
   "source": [
    "#Features selected by the JAYA Algorithms\n",
    "Selected_feature_JA = data_scaled.iloc[:, sf]\n",
    "Selected_feature_JA.columns"
   ]
  },
  {
   "cell_type": "code",
   "execution_count": 43,
   "id": "2dc89df9",
   "metadata": {},
   "outputs": [
    {
     "data": {
      "text/plain": [
       "(6726, 23)"
      ]
     },
     "execution_count": 43,
     "metadata": {},
     "output_type": "execute_result"
    }
   ],
   "source": [
    "features.shape #Just checking the size of our attributes "
   ]
  },
  {
   "cell_type": "markdown",
   "id": "c77e1355",
   "metadata": {},
   "source": [
    "### Now we build our classification models using the Neural Network."
   ]
  },
  {
   "cell_type": "markdown",
   "id": "fe297c93",
   "metadata": {},
   "source": [
    "### All Features"
   ]
  },
  {
   "cell_type": "code",
   "execution_count": 29,
   "id": "0b2496e3",
   "metadata": {},
   "outputs": [
    {
     "name": "stdout",
     "output_type": "stream",
     "text": [
      "Epoch 1/10\n",
      "133/133 [==============================] - 2s 6ms/step - loss: 0.2798 - acc: 0.9238 - val_loss: 0.2799 - val_acc: 0.9108\n",
      "Epoch 2/10\n",
      "133/133 [==============================] - 1s 4ms/step - loss: 0.2399 - acc: 0.9254 - val_loss: 0.2713 - val_acc: 0.9108\n",
      "Epoch 3/10\n",
      "133/133 [==============================] - 1s 4ms/step - loss: 0.2324 - acc: 0.9252 - val_loss: 0.2660 - val_acc: 0.9087\n",
      "Epoch 4/10\n",
      "133/133 [==============================] - 0s 3ms/step - loss: 0.2299 - acc: 0.9257 - val_loss: 0.2658 - val_acc: 0.9087\n",
      "Epoch 5/10\n",
      "133/133 [==============================] - 0s 3ms/step - loss: 0.2285 - acc: 0.9249 - val_loss: 0.2636 - val_acc: 0.9108\n",
      "Epoch 6/10\n",
      "133/133 [==============================] - 0s 3ms/step - loss: 0.2245 - acc: 0.9261 - val_loss: 0.2601 - val_acc: 0.9087\n",
      "Epoch 7/10\n",
      "133/133 [==============================] - 0s 3ms/step - loss: 0.2229 - acc: 0.9268 - val_loss: 0.2655 - val_acc: 0.9108\n",
      "Epoch 8/10\n",
      "133/133 [==============================] - 0s 3ms/step - loss: 0.2227 - acc: 0.9273 - val_loss: 0.2608 - val_acc: 0.9087\n",
      "Epoch 9/10\n",
      "133/133 [==============================] - 0s 3ms/step - loss: 0.2175 - acc: 0.9292 - val_loss: 0.2646 - val_acc: 0.9087\n",
      "Epoch 10/10\n",
      "133/133 [==============================] - 0s 3ms/step - loss: 0.2161 - acc: 0.9283 - val_loss: 0.2591 - val_acc: 0.9023\n",
      "64/64 [==============================] - 0s 2ms/step - loss: 0.2448 - acc: 0.9138\n",
      "64/64 [==============================] - 0s 2ms/step\n",
      "Loss using all features: 0.2448\n",
      "Accuracy using all features: 0.9138\n",
      "F1 Score using all features: 0.0745\n",
      "Sensitivity (Recall) using all features: 0.04\n",
      "Specificity using all features: 0.9967\n"
     ]
    }
   ],
   "source": [
    "#We are starting with all of features (23) from the dataset\n",
    "\n",
    "# Split data into training and testing sets\n",
    "X_train, X_test, y_train, y_test = train_test_split(features, target, test_size=0.3, random_state=random_state)\n",
    "\n",
    "min_max_scale = MinMaxScaler()\n",
    "X_train_scaled = min_max_scale.fit_transform(X_train)\n",
    "X_test_scaled = min_max_scale.transform(X_test)\n",
    "\n",
    "# Define neural network model\n",
    "model_all = Sequential()\n",
    "model_all.add(Dense(64, activation = 'relu', input_shape = (X_train.shape[1],)))\n",
    "model_all.add(Dropout(0.2))\n",
    "model_all.add(Dense(32, activation = 'relu'))\n",
    "model_all.add(Dropout(0.2))\n",
    "model_all.add(Dense(1, activation = 'sigmoid'))\n",
    "\n",
    "model_all.compile(optimizer = 'adam', loss = 'binary_crossentropy', metrics = ['acc'])\n",
    "model_all.fit(X_train_scaled, y_train, epochs = 10, batch_size = 32, validation_split = 0.1, verbose = 1)\n",
    "\n",
    "loss, accuracy = model_all.evaluate(X_test_scaled, y_test)\n",
    "\n",
    "y_pred = model_all.predict(X_test_scaled)\n",
    "y_pred_binary = (y_pred > 0.5).astype(int)\n",
    "\n",
    "# Calculate evaluation metrics\n",
    "print(\"Loss using all features:\", round(loss, 4))\n",
    "print(\"Accuracy using all features:\", round(accuracy, 4))\n",
    "print(\"F1 Score using all features:\", round(f1_score(y_test, y_pred_binary), 4))\n",
    "print(\"Sensitivity (Recall) using all features:\", round(recall_score(y_test, y_pred_binary), 4))\n",
    "print(\"Specificity using all features:\", round(recall_score(y_test, y_pred_binary, pos_label=0), 4))\n"
   ]
  },
  {
   "cell_type": "code",
   "execution_count": 30,
   "id": "c4c2d524",
   "metadata": {},
   "outputs": [
    {
     "data": {
      "text/plain": [
       "['age',\n",
       " 'menopause',\n",
       " 'TNEG',\n",
       " 'ER',\n",
       " 'PR',\n",
       " 'P53',\n",
       " 'HER2',\n",
       " 'stage',\n",
       " 'node_status',\n",
       " 'node_positive',\n",
       " 'node_removed',\n",
       " 'histology',\n",
       " 'size',\n",
       " 'grade',\n",
       " 'invasive',\n",
       " 'surgical_margins',\n",
       " 'surgery',\n",
       " 'breast_chest_radi',\n",
       " 'nodal_radi',\n",
       " 'chemo',\n",
       " 'antihormone',\n",
       " 'HER2_Inhib',\n",
       " 'neo']"
      ]
     },
     "execution_count": 30,
     "metadata": {},
     "output_type": "execute_result"
    }
   ],
   "source": [
    "features_all = list(features.columns)\n",
    "features_all"
   ]
  },
  {
   "cell_type": "markdown",
   "id": "f885941e",
   "metadata": {},
   "source": [
    "### Chi_square Features"
   ]
  },
  {
   "cell_type": "code",
   "execution_count": 31,
   "id": "12251bd9",
   "metadata": {},
   "outputs": [
    {
     "name": "stdout",
     "output_type": "stream",
     "text": [
      "Epoch 1/10\n",
      "133/133 [==============================] - 2s 4ms/step - loss: 0.3343 - acc: 0.8978 - val_loss: 0.2861 - val_acc: 0.9108\n",
      "Epoch 2/10\n",
      "133/133 [==============================] - 0s 3ms/step - loss: 0.2396 - acc: 0.9254 - val_loss: 0.2861 - val_acc: 0.9108\n",
      "Epoch 3/10\n",
      "133/133 [==============================] - 0s 3ms/step - loss: 0.2402 - acc: 0.9254 - val_loss: 0.2803 - val_acc: 0.9108\n",
      "Epoch 4/10\n",
      "133/133 [==============================] - 0s 3ms/step - loss: 0.2350 - acc: 0.9261 - val_loss: 0.2765 - val_acc: 0.9108\n",
      "Epoch 5/10\n",
      "133/133 [==============================] - 0s 3ms/step - loss: 0.2337 - acc: 0.9257 - val_loss: 0.2734 - val_acc: 0.9108\n",
      "Epoch 6/10\n",
      "133/133 [==============================] - 0s 3ms/step - loss: 0.2318 - acc: 0.9259 - val_loss: 0.2733 - val_acc: 0.9108\n",
      "Epoch 7/10\n",
      "133/133 [==============================] - 0s 3ms/step - loss: 0.2302 - acc: 0.9259 - val_loss: 0.2750 - val_acc: 0.9087\n",
      "Epoch 8/10\n",
      "133/133 [==============================] - 0s 3ms/step - loss: 0.2318 - acc: 0.9271 - val_loss: 0.2702 - val_acc: 0.9087\n",
      "Epoch 9/10\n",
      "133/133 [==============================] - 0s 3ms/step - loss: 0.2309 - acc: 0.9273 - val_loss: 0.2690 - val_acc: 0.9087\n",
      "Epoch 10/10\n",
      "133/133 [==============================] - 0s 3ms/step - loss: 0.2277 - acc: 0.9275 - val_loss: 0.2716 - val_acc: 0.9087\n",
      "64/64 [==============================] - 0s 2ms/step - loss: 0.2455 - acc: 0.9123\n",
      "64/64 [==============================] - 0s 2ms/step\n",
      "Loss using Chi-square features: 0.2455\n",
      "Accuracy using Chi-square features: 0.9123\n",
      "F1 Score using Chi-square features: 0.0112\n",
      "Sensitivity (Recall) using Chi-square features: 0.0057\n",
      "Specificity using Chi-square features: 0.9984\n"
     ]
    }
   ],
   "source": [
    "# Split data into training and testing sets\n",
    "X_train, X_test, y_train, y_test = train_test_split(Selected_feature_ChiSquare, target, test_size=0.3, random_state=random_state)\n",
    "\n",
    "min_max_scale = MinMaxScaler()\n",
    "X_train_scaled = min_max_scale.fit_transform(X_train)\n",
    "X_test_scaled = min_max_scale.transform(X_test)\n",
    "\n",
    "# Define neural network model\n",
    "model_chiS = Sequential()\n",
    "model_chiS.add(Dense(64, activation = 'relu', input_shape = (X_train.shape[1],)))\n",
    "model_chiS.add(Dropout(0.2))\n",
    "model_chiS.add(Dense(32, activation = 'relu'))\n",
    "model_chiS.add(Dropout(0.2))\n",
    "model_chiS.add(Dense(1, activation = 'sigmoid'))\n",
    "\n",
    "model_chiS.compile(optimizer = 'adam', loss = 'binary_crossentropy', metrics = ['acc'])\n",
    "model_chiS.fit(X_train_scaled, y_train, epochs = 10, batch_size = 32, validation_split = 0.1, verbose = 1)\n",
    "\n",
    "loss, accuracy = model_chiS.evaluate(X_test_scaled, y_test)\n",
    "\n",
    "y_pred = model_chiS.predict(X_test_scaled)\n",
    "y_pred_binary = (y_pred > 0.5).astype(int)\n",
    "\n",
    "# Calculate evaluation metrics\n",
    "print(\"Loss using Chi-square features:\", round(loss, 4))\n",
    "print(\"Accuracy using Chi-square features:\", round(accuracy, 4))\n",
    "print(\"F1 Score using Chi-square features:\", round(f1_score(y_test, y_pred_binary), 4))\n",
    "print(\"Sensitivity (Recall) using Chi-square features:\", round(recall_score(y_test, y_pred_binary), 4))\n",
    "print(\"Specificity using Chi-square features:\", round(recall_score(y_test, y_pred_binary, pos_label=0), 4))"
   ]
  },
  {
   "cell_type": "code",
   "execution_count": 32,
   "id": "084a93ee",
   "metadata": {},
   "outputs": [
    {
     "data": {
      "text/plain": [
       "['antihormone',\n",
       " 'TNEG',\n",
       " 'node_status',\n",
       " 'P53',\n",
       " 'size',\n",
       " 'nodal_radi',\n",
       " 'PR',\n",
       " 'HER2_Inhib',\n",
       " 'ER',\n",
       " 'node_positive']"
      ]
     },
     "execution_count": 32,
     "metadata": {},
     "output_type": "execute_result"
    }
   ],
   "source": [
    "features_ChiS = list(Selected_feature_ChiSquare.columns)\n",
    "features_ChiS"
   ]
  },
  {
   "cell_type": "markdown",
   "id": "96b71716",
   "metadata": {},
   "source": [
    "### Random-Forest Gini-Index Features"
   ]
  },
  {
   "cell_type": "code",
   "execution_count": 33,
   "id": "5c38b55a",
   "metadata": {},
   "outputs": [
    {
     "name": "stdout",
     "output_type": "stream",
     "text": [
      "Epoch 1/10\n",
      "133/133 [==============================] - 2s 5ms/step - loss: 0.3325 - acc: 0.9002 - val_loss: 0.2912 - val_acc: 0.9108\n",
      "Epoch 2/10\n",
      "133/133 [==============================] - 0s 3ms/step - loss: 0.2561 - acc: 0.9254 - val_loss: 0.2843 - val_acc: 0.9108\n",
      "Epoch 3/10\n",
      "133/133 [==============================] - 0s 3ms/step - loss: 0.2488 - acc: 0.9254 - val_loss: 0.2790 - val_acc: 0.9108\n",
      "Epoch 4/10\n",
      "133/133 [==============================] - 0s 3ms/step - loss: 0.2414 - acc: 0.9254 - val_loss: 0.2782 - val_acc: 0.9108\n",
      "Epoch 5/10\n",
      "133/133 [==============================] - 0s 3ms/step - loss: 0.2417 - acc: 0.9254 - val_loss: 0.2726 - val_acc: 0.9108\n",
      "Epoch 6/10\n",
      "133/133 [==============================] - 0s 3ms/step - loss: 0.2380 - acc: 0.9254 - val_loss: 0.2744 - val_acc: 0.9108\n",
      "Epoch 7/10\n",
      "133/133 [==============================] - 0s 3ms/step - loss: 0.2346 - acc: 0.9254 - val_loss: 0.2720 - val_acc: 0.9108\n",
      "Epoch 8/10\n",
      "133/133 [==============================] - 0s 3ms/step - loss: 0.2350 - acc: 0.9254 - val_loss: 0.2690 - val_acc: 0.9108\n",
      "Epoch 9/10\n",
      "133/133 [==============================] - 0s 3ms/step - loss: 0.2352 - acc: 0.9254 - val_loss: 0.2705 - val_acc: 0.9108\n",
      "Epoch 10/10\n",
      "133/133 [==============================] - 0s 3ms/step - loss: 0.2330 - acc: 0.9257 - val_loss: 0.2672 - val_acc: 0.9108\n",
      "64/64 [==============================] - 0s 2ms/step - loss: 0.2558 - acc: 0.9133\n",
      "64/64 [==============================] - 0s 2ms/step\n",
      "Loss using RFGI features: 0.2558\n",
      "Accuracy using RFGI features: 0.9133\n",
      "F1 Score using RFGI features: 0.0\n",
      "Sensitivity (Recall) using RFGI features: 0.0\n",
      "Specificity using RFGI features: 1.0\n"
     ]
    }
   ],
   "source": [
    "# Split data into training and testing sets\n",
    "X_train, X_test, y_train, y_test = train_test_split(Selected_feature_RF_GiniIndex, target, test_size=0.3, random_state=random_state)\n",
    "\n",
    "min_max_scale = MinMaxScaler()\n",
    "X_train_scaled = min_max_scale.fit_transform(X_train)\n",
    "X_test_scaled = min_max_scale.transform(X_test)\n",
    "\n",
    "# Define neural network model\n",
    "model_RFGI = Sequential()\n",
    "model_RFGI.add(Dense(64, activation = 'relu', input_shape = (X_train.shape[1],)))\n",
    "model_RFGI.add(Dropout(0.2))\n",
    "model_RFGI.add(Dense(32, activation = 'relu'))\n",
    "model_RFGI.add(Dropout(0.2))\n",
    "model_RFGI.add(Dense(1, activation = 'sigmoid'))\n",
    "\n",
    "model_RFGI.compile(optimizer = 'adam', loss = 'binary_crossentropy', metrics = ['acc'])\n",
    "model_RFGI.fit(X_train_scaled, y_train, epochs = 10, batch_size = 32, validation_split = 0.1, verbose = 1)\n",
    "\n",
    "loss, accuracy = model_RFGI.evaluate(X_test_scaled, y_test)\n",
    "\n",
    "y_pred = model_RFGI.predict(X_test_scaled)\n",
    "y_pred_binary = (y_pred > 0.5).astype(int)\n",
    "\n",
    "# Calculate evaluation metrics\n",
    "print(\"Loss using RFGI features:\", round(loss, 4))\n",
    "print(\"Accuracy using RFGI features:\", round(accuracy, 4))\n",
    "print(\"F1 Score using RFGI features:\", round(f1_score(y_test, y_pred_binary), 4))\n",
    "print(\"Sensitivity (Recall) using RFGI features:\", round(recall_score(y_test, y_pred_binary), 4))\n",
    "print(\"Specificity using RFGI features:\", round(recall_score(y_test, y_pred_binary, pos_label=0), 4))"
   ]
  },
  {
   "cell_type": "code",
   "execution_count": 34,
   "id": "4bab91b7",
   "metadata": {},
   "outputs": [
    {
     "data": {
      "text/plain": [
       "['grade',\n",
       " 'age',\n",
       " 'node_removed',\n",
       " 'nodal_radi',\n",
       " 'HER2_Inhib',\n",
       " 'stage',\n",
       " 'size',\n",
       " 'P53',\n",
       " 'node_positive',\n",
       " 'chemo']"
      ]
     },
     "execution_count": 34,
     "metadata": {},
     "output_type": "execute_result"
    }
   ],
   "source": [
    "features_RFGI = list(Selected_feature_RF_GiniIndex.columns)\n",
    "features_RFGI"
   ]
  },
  {
   "cell_type": "markdown",
   "id": "c7204da5",
   "metadata": {},
   "source": [
    "### JAYA Features"
   ]
  },
  {
   "cell_type": "code",
   "execution_count": 35,
   "id": "aa7d3147",
   "metadata": {},
   "outputs": [
    {
     "name": "stdout",
     "output_type": "stream",
     "text": [
      "Epoch 1/10\n",
      "133/133 [==============================] - 2s 5ms/step - loss: 0.3519 - acc: 0.9153 - val_loss: 0.2881 - val_acc: 0.9108\n",
      "Epoch 2/10\n",
      "133/133 [==============================] - 0s 3ms/step - loss: 0.2437 - acc: 0.9254 - val_loss: 0.2848 - val_acc: 0.9108\n",
      "Epoch 3/10\n",
      "133/133 [==============================] - 0s 3ms/step - loss: 0.2371 - acc: 0.9254 - val_loss: 0.2896 - val_acc: 0.9108\n",
      "Epoch 4/10\n",
      "133/133 [==============================] - 0s 3ms/step - loss: 0.2328 - acc: 0.9249 - val_loss: 0.2890 - val_acc: 0.9108\n",
      "Epoch 5/10\n",
      "133/133 [==============================] - 0s 3ms/step - loss: 0.2319 - acc: 0.9254 - val_loss: 0.2875 - val_acc: 0.9108\n",
      "Epoch 6/10\n",
      "133/133 [==============================] - 0s 3ms/step - loss: 0.2323 - acc: 0.9249 - val_loss: 0.2862 - val_acc: 0.9108\n",
      "Epoch 7/10\n",
      "133/133 [==============================] - 0s 3ms/step - loss: 0.2325 - acc: 0.9254 - val_loss: 0.2847 - val_acc: 0.9087\n",
      "Epoch 8/10\n",
      "133/133 [==============================] - 0s 3ms/step - loss: 0.2318 - acc: 0.9254 - val_loss: 0.2832 - val_acc: 0.9108\n",
      "Epoch 9/10\n",
      "133/133 [==============================] - 0s 3ms/step - loss: 0.2301 - acc: 0.9261 - val_loss: 0.2820 - val_acc: 0.9108\n",
      "Epoch 10/10\n",
      "133/133 [==============================] - 0s 3ms/step - loss: 0.2310 - acc: 0.9254 - val_loss: 0.2853 - val_acc: 0.9108\n",
      "64/64 [==============================] - 0s 3ms/step - loss: 0.2534 - acc: 0.9143\n",
      "64/64 [==============================] - 0s 2ms/step\n",
      "Loss using JAYA features: 0.2534\n",
      "Accuracy using JAYA features: 0.9143\n",
      "F1 Score using JAYA features: 0.0226\n",
      "Sensitivity (Recall) using JAYA features: 0.0114\n",
      "Specificity using JAYA features: 1.0\n"
     ]
    }
   ],
   "source": [
    "# Split data into training and testing sets\n",
    "X_train, X_test, y_train, y_test = train_test_split(Selected_feature_JA, target, test_size=0.3, random_state=random_state)\n",
    "\n",
    "min_max_scale = MinMaxScaler()\n",
    "X_train_scaled = min_max_scale.fit_transform(X_train)\n",
    "X_test_scaled = min_max_scale.transform(X_test)\n",
    "\n",
    "# Define neural network model\n",
    "model_JAYA = Sequential()\n",
    "model_JAYA.add(Dense(64, activation = 'relu', input_shape = (X_train.shape[1],)))\n",
    "model_JAYA.add(Dropout(0.2))\n",
    "model_JAYA.add(Dense(32, activation = 'relu'))\n",
    "model_JAYA.add(Dropout(0.2))\n",
    "model_JAYA.add(Dense(1, activation = 'sigmoid'))\n",
    "\n",
    "model_JAYA.compile(optimizer = 'adam', loss = 'binary_crossentropy', metrics = ['acc'])\n",
    "model_JAYA.fit(X_train_scaled, y_train, epochs = 10, batch_size = 32, validation_split = 0.1, verbose = 1)\n",
    "\n",
    "loss, accuracy = model_JAYA.evaluate(X_test_scaled, y_test)\n",
    "\n",
    "y_pred = model_JAYA.predict(X_test_scaled)\n",
    "y_pred_binary = (y_pred > 0.5).astype(int)\n",
    "\n",
    "# Calculate evaluation metrics\n",
    "print(\"Loss using JAYA features:\", round(loss, 4))\n",
    "print(\"Accuracy using JAYA features:\", round(accuracy, 4))\n",
    "print(\"F1 Score using JAYA features:\", round(f1_score(y_test, y_pred_binary), 4))\n",
    "print(\"Sensitivity (Recall) using JAYA features:\", round(recall_score(y_test, y_pred_binary), 4))\n",
    "print(\"Specificity using JAYA features:\", round(recall_score(y_test, y_pred_binary, pos_label=0), 4))"
   ]
  },
  {
   "cell_type": "code",
   "execution_count": 36,
   "id": "c995c555",
   "metadata": {},
   "outputs": [
    {
     "data": {
      "text/plain": [
       "['menopause',\n",
       " 'TNEG',\n",
       " 'node_status',\n",
       " 'surgery',\n",
       " 'breast_chest_radi',\n",
       " 'nodal_radi',\n",
       " 'antihormone']"
      ]
     },
     "execution_count": 36,
     "metadata": {},
     "output_type": "execute_result"
    }
   ],
   "source": [
    "features_Jaya = list(Selected_feature_JA.columns)\n",
    "features_Jaya"
   ]
  },
  {
   "cell_type": "markdown",
   "id": "54d6dcf7",
   "metadata": {},
   "source": [
    "## Now we have to apply our imbalance data handling techniques"
   ]
  },
  {
   "cell_type": "markdown",
   "id": "2440c5e3",
   "metadata": {},
   "source": [
    "## Handling when using all features"
   ]
  },
  {
   "cell_type": "code",
   "execution_count": 37,
   "id": "1cb8f9df",
   "metadata": {},
   "outputs": [
    {
     "name": "stdout",
     "output_type": "stream",
     "text": [
      "number of samples in the majority class cancer:  6193\n",
      "number of samples in the minority class cancer:  533\n"
     ]
    }
   ],
   "source": [
    "#we first have to separate the two classes\n",
    "majority_class_No = data[data['metastasis'] == 0]\n",
    "minority_class_Yes = data[data['metastasis'] == 1]\n",
    "\n",
    "print(\"number of samples in the majority class cancer: \",len(majority_class_No.metastasis))\n",
    "print(\"number of samples in the minority class cancer: \",len(minority_class_Yes.metastasis))"
   ]
  },
  {
   "cell_type": "markdown",
   "id": "9411d44b",
   "metadata": {},
   "source": [
    "### Starting with RandomOversampling"
   ]
  },
  {
   "cell_type": "code",
   "execution_count": 38,
   "id": "26e8a06a",
   "metadata": {},
   "outputs": [
    {
     "name": "stdout",
     "output_type": "stream",
     "text": [
      "Checking the shape of our data once more: \n",
      " 0    6193\n",
      "1    6193\n",
      "Name: metastasis, dtype: int64\n"
     ]
    }
   ],
   "source": [
    "# Upsample minority class to equal majority class\n",
    "minority_upsample = resample(minority_class_Yes, replace = True, n_samples = len(majority_class_No), random_state = random_state)\n",
    "# Combine majority class with upsampled minority class\n",
    "data_combined_upsample = pd.concat([majority_class_No, minority_upsample])\n",
    "print(\"Checking the shape of our data once more: \\n\", data_combined_upsample.metastasis.value_counts())"
   ]
  },
  {
   "cell_type": "code",
   "execution_count": 39,
   "id": "e9472d3e",
   "metadata": {},
   "outputs": [],
   "source": [
    "#data_combined_upsample #Checking our entire dataset"
   ]
  },
  {
   "cell_type": "markdown",
   "id": "29b56329",
   "metadata": {},
   "source": [
    "### RandomDownsampling"
   ]
  },
  {
   "cell_type": "code",
   "execution_count": 40,
   "id": "6b1ce752",
   "metadata": {},
   "outputs": [
    {
     "name": "stdout",
     "output_type": "stream",
     "text": [
      "Checking the shape of our data once more: \n",
      " 0    533\n",
      "1    533\n",
      "Name: metastasis, dtype: int64\n"
     ]
    }
   ],
   "source": [
    "# Downsample the majority class\n",
    "# Perform downsampling\n",
    "majority_downsampled = resample(majority_class_No, replace=False, n_samples=len(minority_class_Yes), random_state=random_state)\n",
    "\n",
    "data_combined_downsample = pd.concat([majority_downsampled, minority_class_Yes])\n",
    "print(\"Checking the shape of our data once more: \\n\", data_combined_downsample.metastasis.value_counts())"
   ]
  },
  {
   "cell_type": "markdown",
   "id": "9f01c33d",
   "metadata": {},
   "source": [
    "### SMOTE Technique"
   ]
  },
  {
   "cell_type": "code",
   "execution_count": 41,
   "id": "a9a482e7",
   "metadata": {},
   "outputs": [],
   "source": [
    "#Now lets use the SMOTE technique to handle the imbalance data issues\n",
    "smote = SMOTE(random_state = random_state, k_neighbors=5)\n",
    "features_SMOTE, target_SMOTE = smote.fit_resample(features, target)"
   ]
  },
  {
   "cell_type": "code",
   "execution_count": 42,
   "id": "d86cacef",
   "metadata": {},
   "outputs": [
    {
     "data": {
      "text/plain": [
       "metastasis\n",
       "0             6193\n",
       "1             6193\n",
       "dtype: int64"
      ]
     },
     "execution_count": 42,
     "metadata": {},
     "output_type": "execute_result"
    }
   ],
   "source": [
    "#Checking to see if SMOTE works\n",
    "target_SMOTE.value_counts() # These shows that the classes a rebalanced now ie., 162 both"
   ]
  },
  {
   "cell_type": "markdown",
   "id": "d1333edb",
   "metadata": {},
   "source": [
    "### Now we again pass our balanced datasets to put NN, but first lets prepare them"
   ]
  },
  {
   "cell_type": "markdown",
   "id": "18c6dda4",
   "metadata": {},
   "source": [
    "#### Preparing Upsampled Data"
   ]
  },
  {
   "cell_type": "code",
   "execution_count": 43,
   "id": "af274a9b",
   "metadata": {},
   "outputs": [],
   "source": [
    "#Now we split out balanced dataset into features and target class\n",
    "features_up = data_combined_upsample.drop(['metastasis'],axis = 1) #Selecting all independent varibles\n",
    "target_up = data_combined_upsample.loc[:,['metastasis']] #Picking only the target class"
   ]
  },
  {
   "cell_type": "markdown",
   "id": "7fda661d",
   "metadata": {},
   "source": [
    "#### Preparing Downsampled data"
   ]
  },
  {
   "cell_type": "code",
   "execution_count": 44,
   "id": "5b8cd0a2",
   "metadata": {},
   "outputs": [],
   "source": [
    "#Now we split out balanced dataset into features and target class\n",
    "features_down = data_combined_downsample.drop(['metastasis'],axis = 1) #Selecting all independent varibles\n",
    "target_down = data_combined_downsample.loc[:,['metastasis']] #Picking only the target class"
   ]
  },
  {
   "cell_type": "markdown",
   "id": "6c16dfa7",
   "metadata": {},
   "source": [
    "#### Preparing SMOTE"
   ]
  },
  {
   "cell_type": "code",
   "execution_count": 45,
   "id": "49f0abbf",
   "metadata": {},
   "outputs": [],
   "source": [
    "#Now we split out balanced dataset into features and target class\n",
    "#features_SMOTE \n",
    "#target_SMOTE "
   ]
  },
  {
   "cell_type": "markdown",
   "id": "398bbb3d",
   "metadata": {},
   "source": [
    "### Starting with using ALL THE FEATURES (with Upsampled data, downsampled data, and SMOTE data)"
   ]
  },
  {
   "cell_type": "markdown",
   "id": "1e879bb7",
   "metadata": {},
   "source": [
    "#### We start using the upsampled data with all features"
   ]
  },
  {
   "cell_type": "code",
   "execution_count": 46,
   "id": "eecc103f",
   "metadata": {},
   "outputs": [
    {
     "name": "stdout",
     "output_type": "stream",
     "text": [
      "Epoch 1/10\n",
      "244/244 [==============================] - 2s 4ms/step - loss: 0.5948 - acc: 0.6818 - val_loss: 0.5421 - val_acc: 0.7347\n",
      "Epoch 2/10\n",
      "244/244 [==============================] - 1s 3ms/step - loss: 0.5400 - acc: 0.7325 - val_loss: 0.5352 - val_acc: 0.7347\n",
      "Epoch 3/10\n",
      "244/244 [==============================] - 1s 3ms/step - loss: 0.5228 - acc: 0.7443 - val_loss: 0.5137 - val_acc: 0.7578\n",
      "Epoch 4/10\n",
      "244/244 [==============================] - 1s 3ms/step - loss: 0.5109 - acc: 0.7536 - val_loss: 0.4962 - val_acc: 0.7601\n",
      "Epoch 5/10\n",
      "244/244 [==============================] - 1s 3ms/step - loss: 0.4960 - acc: 0.7637 - val_loss: 0.4894 - val_acc: 0.7774\n",
      "Epoch 6/10\n",
      "244/244 [==============================] - 1s 3ms/step - loss: 0.4794 - acc: 0.7770 - val_loss: 0.4786 - val_acc: 0.7878\n",
      "Epoch 7/10\n",
      "244/244 [==============================] - 1s 3ms/step - loss: 0.4744 - acc: 0.7806 - val_loss: 0.4722 - val_acc: 0.7866\n",
      "Epoch 8/10\n",
      "244/244 [==============================] - 1s 3ms/step - loss: 0.4619 - acc: 0.7847 - val_loss: 0.4614 - val_acc: 0.7912\n",
      "Epoch 9/10\n",
      "244/244 [==============================] - 1s 3ms/step - loss: 0.4538 - acc: 0.7938 - val_loss: 0.4513 - val_acc: 0.8051\n",
      "Epoch 10/10\n",
      "244/244 [==============================] - 1s 3ms/step - loss: 0.4495 - acc: 0.7948 - val_loss: 0.4508 - val_acc: 0.8016\n",
      "117/117 [==============================] - 0s 2ms/step - loss: 0.4423 - acc: 0.7976\n",
      "117/117 [==============================] - 0s 2ms/step\n",
      "Loss using all features with upsampled data: 0.4423\n",
      "Accuracy using all features with upsampled data: 0.7976\n",
      "F1 Score using all features with upsampled data: 0.8097\n",
      "Sensitivity (Recall) using all features with upsampled data: 0.8681\n",
      "Specificity using all features with upsampled data: 0.7282\n"
     ]
    }
   ],
   "source": [
    "# Split data into training and testing sets\n",
    "X_train, X_test, y_train, y_test = train_test_split(features_up, target_up, test_size=0.3, random_state=random_state)\n",
    "\n",
    "min_max_scale = MinMaxScaler()\n",
    "X_train_scaled = min_max_scale.fit_transform(X_train)\n",
    "X_test_scaled = min_max_scale.transform(X_test)\n",
    "\n",
    "# Define neural network model\n",
    "model_all_up = Sequential()\n",
    "model_all_up.add(Dense(64, activation = 'relu', input_shape = (X_train.shape[1],)))\n",
    "model_all_up.add(Dropout(0.2))\n",
    "model_all_up.add(Dense(32, activation = 'relu'))\n",
    "model_all_up.add(Dropout(0.2))\n",
    "model_all_up.add(Dense(1, activation = 'sigmoid'))\n",
    "\n",
    "model_all_up.compile(optimizer = 'adam', loss = 'binary_crossentropy', metrics = ['acc'])\n",
    "model_all_up.fit(X_train_scaled, y_train, epochs = 10, batch_size = 32, validation_split = 0.1, verbose = 1)\n",
    "\n",
    "loss, accuracy = model_all_up.evaluate(X_test_scaled, y_test)\n",
    "\n",
    "y_pred = model_all_up.predict(X_test_scaled)\n",
    "y_pred_binary = (y_pred > 0.5).astype(int)\n",
    "\n",
    "# Calculate evaluation metrics\n",
    "print(\"Loss using all features with upsampled data:\", round(loss, 4))\n",
    "print(\"Accuracy using all features with upsampled data:\", round(accuracy, 4))\n",
    "print(\"F1 Score using all features with upsampled data:\", round(f1_score(y_test, y_pred_binary), 4))\n",
    "print(\"Sensitivity (Recall) using all features with upsampled data:\", round(recall_score(y_test, y_pred_binary), 4))\n",
    "print(\"Specificity using all features with upsampled data:\", round(recall_score(y_test, y_pred_binary, pos_label=0), 4))\n"
   ]
  },
  {
   "cell_type": "markdown",
   "id": "8cc8bb22",
   "metadata": {},
   "source": [
    "#### We using the downsampled data with all features"
   ]
  },
  {
   "cell_type": "code",
   "execution_count": 47,
   "id": "cbf4d6a3",
   "metadata": {},
   "outputs": [
    {
     "name": "stdout",
     "output_type": "stream",
     "text": [
      "Epoch 1/10\n",
      "21/21 [==============================] - 2s 15ms/step - loss: 0.6901 - acc: 0.5335 - val_loss: 0.6785 - val_acc: 0.6800\n",
      "Epoch 2/10\n",
      "21/21 [==============================] - 0s 5ms/step - loss: 0.6580 - acc: 0.6408 - val_loss: 0.6350 - val_acc: 0.7333\n",
      "Epoch 3/10\n",
      "21/21 [==============================] - 0s 6ms/step - loss: 0.6354 - acc: 0.6542 - val_loss: 0.5948 - val_acc: 0.7600\n",
      "Epoch 4/10\n",
      "21/21 [==============================] - 0s 6ms/step - loss: 0.6104 - acc: 0.6900 - val_loss: 0.5642 - val_acc: 0.7467\n",
      "Epoch 5/10\n",
      "21/21 [==============================] - 0s 6ms/step - loss: 0.6086 - acc: 0.6811 - val_loss: 0.5452 - val_acc: 0.7600\n",
      "Epoch 6/10\n",
      "21/21 [==============================] - 0s 6ms/step - loss: 0.6039 - acc: 0.6870 - val_loss: 0.5382 - val_acc: 0.7733\n",
      "Epoch 7/10\n",
      "21/21 [==============================] - 0s 5ms/step - loss: 0.5873 - acc: 0.6811 - val_loss: 0.5311 - val_acc: 0.7600\n",
      "Epoch 8/10\n",
      "21/21 [==============================] - 0s 6ms/step - loss: 0.5783 - acc: 0.7019 - val_loss: 0.5260 - val_acc: 0.7733\n",
      "Epoch 9/10\n",
      "21/21 [==============================] - 0s 6ms/step - loss: 0.5794 - acc: 0.7168 - val_loss: 0.5227 - val_acc: 0.7600\n",
      "Epoch 10/10\n",
      "21/21 [==============================] - 0s 6ms/step - loss: 0.5756 - acc: 0.7064 - val_loss: 0.5221 - val_acc: 0.7733\n",
      "10/10 [==============================] - 0s 3ms/step - loss: 0.5707 - acc: 0.7156\n",
      "10/10 [==============================] - 0s 2ms/step\n",
      "Loss using all features with downsampled data: 0.5707\n",
      "Accuracy using all features with downsampled data: 0.7156\n",
      "F1 Score using all features with downsampled data: 0.7036\n",
      "Sensitivity (Recall) using all features with downsampled data: 0.7152\n",
      "Specificity using all features with downsampled data: 0.716\n"
     ]
    }
   ],
   "source": [
    "# Split data into training and testing sets\n",
    "X_train, X_test, y_train, y_test = train_test_split(features_down, target_down, test_size=0.3, random_state=random_state)\n",
    "\n",
    "min_max_scale = MinMaxScaler()\n",
    "X_train_scaled = min_max_scale.fit_transform(X_train)\n",
    "X_test_scaled = min_max_scale.transform(X_test)\n",
    "\n",
    "# Define neural network model\n",
    "model_all_down = Sequential()\n",
    "model_all_down.add(Dense(64, activation = 'relu', input_shape = (X_train.shape[1],)))\n",
    "model_all_down.add(Dropout(0.2))\n",
    "model_all_down.add(Dense(32, activation = 'relu'))\n",
    "model_all_down.add(Dropout(0.2))\n",
    "model_all_down.add(Dense(1, activation = 'sigmoid'))\n",
    "\n",
    "model_all_down.compile(optimizer = 'adam', loss = 'binary_crossentropy', metrics = ['acc'])\n",
    "model_all_down.fit(X_train_scaled, y_train, epochs = 10, batch_size = 32, validation_split = 0.1, verbose = 1)\n",
    "\n",
    "loss, accuracy = model_all_down.evaluate(X_test_scaled, y_test)\n",
    "\n",
    "y_pred = model_all_down.predict(X_test_scaled)\n",
    "y_pred_binary = (y_pred > 0.5).astype(int)\n",
    "\n",
    "# Calculate evaluation metrics\n",
    "print(\"Loss using all features with downsampled data:\", round(loss, 4))\n",
    "print(\"Accuracy using all features with downsampled data:\", round(accuracy, 4))\n",
    "print(\"F1 Score using all features with downsampled data:\", round(f1_score(y_test, y_pred_binary), 4))\n",
    "print(\"Sensitivity (Recall) using all features with downsampled data:\", round(recall_score(y_test, y_pred_binary), 4))\n",
    "print(\"Specificity using all features with downsampled data:\", round(recall_score(y_test, y_pred_binary, pos_label=0), 4))"
   ]
  },
  {
   "cell_type": "markdown",
   "id": "1fb71476",
   "metadata": {},
   "source": [
    "#### We using the SMOTE data with all features"
   ]
  },
  {
   "cell_type": "code",
   "execution_count": 48,
   "id": "ce83cdfe",
   "metadata": {},
   "outputs": [
    {
     "name": "stdout",
     "output_type": "stream",
     "text": [
      "Epoch 1/10\n",
      "244/244 [==============================] - 2s 4ms/step - loss: 0.5884 - acc: 0.6946 - val_loss: 0.5429 - val_acc: 0.7163\n",
      "Epoch 2/10\n",
      "244/244 [==============================] - 1s 3ms/step - loss: 0.5320 - acc: 0.7429 - val_loss: 0.5135 - val_acc: 0.7486\n",
      "Epoch 3/10\n",
      "244/244 [==============================] - 1s 3ms/step - loss: 0.5111 - acc: 0.7547 - val_loss: 0.5017 - val_acc: 0.7393\n",
      "Epoch 4/10\n",
      "244/244 [==============================] - 1s 3ms/step - loss: 0.4926 - acc: 0.7607 - val_loss: 0.4775 - val_acc: 0.7566\n",
      "Epoch 5/10\n",
      "244/244 [==============================] - 1s 3ms/step - loss: 0.4744 - acc: 0.7755 - val_loss: 0.4647 - val_acc: 0.7855\n",
      "Epoch 6/10\n",
      "244/244 [==============================] - 1s 3ms/step - loss: 0.4612 - acc: 0.7865 - val_loss: 0.4483 - val_acc: 0.7751\n",
      "Epoch 7/10\n",
      "244/244 [==============================] - 1s 3ms/step - loss: 0.4521 - acc: 0.7885 - val_loss: 0.4426 - val_acc: 0.7785\n",
      "Epoch 8/10\n",
      "244/244 [==============================] - 1s 3ms/step - loss: 0.4427 - acc: 0.7947 - val_loss: 0.4365 - val_acc: 0.7866\n",
      "Epoch 9/10\n",
      "244/244 [==============================] - 1s 3ms/step - loss: 0.4352 - acc: 0.7992 - val_loss: 0.4242 - val_acc: 0.7947\n",
      "Epoch 10/10\n",
      "244/244 [==============================] - 1s 3ms/step - loss: 0.4285 - acc: 0.8096 - val_loss: 0.4194 - val_acc: 0.8028\n",
      "117/117 [==============================] - 0s 2ms/step - loss: 0.4338 - acc: 0.7998\n",
      "117/117 [==============================] - 0s 2ms/step\n",
      "Loss using all features with SMOTE data: 0.4338\n",
      "Accuracy using all features with SMOTE data: 0.7998\n",
      "F1 Score using all features with SMOTE data: 0.7963\n",
      "Sensitivity (Recall) using all features with SMOTE data: 0.7809\n",
      "Specificity using all features with SMOTE data: 0.8188\n"
     ]
    }
   ],
   "source": [
    "# Split data into training and testing sets\n",
    "X_train, X_test, y_train, y_test = train_test_split(features_SMOTE , target_SMOTE, test_size=0.3, random_state=random_state)\n",
    "\n",
    "min_max_scale = MinMaxScaler()\n",
    "X_train_scaled = min_max_scale.fit_transform(X_train)\n",
    "X_test_scaled = min_max_scale.transform(X_test)\n",
    "\n",
    "# Define neural network model\n",
    "model_all_SMOTE = Sequential()\n",
    "model_all_SMOTE.add(Dense(64, activation = 'relu', input_shape = (X_train.shape[1],)))\n",
    "model_all_SMOTE.add(Dropout(0.2))\n",
    "model_all_SMOTE.add(Dense(32, activation = 'relu'))\n",
    "model_all_SMOTE.add(Dropout(0.2))\n",
    "model_all_SMOTE.add(Dense(1, activation = 'sigmoid'))\n",
    "\n",
    "model_all_SMOTE.compile(optimizer = 'adam', loss = 'binary_crossentropy', metrics = ['acc'])\n",
    "model_all_SMOTE.fit(X_train_scaled, y_train, epochs = 10, batch_size = 32, validation_split = 0.1, verbose = 1)\n",
    "\n",
    "loss, accuracy = model_all_SMOTE.evaluate(X_test_scaled, y_test)\n",
    "\n",
    "y_pred = model_all_SMOTE.predict(X_test_scaled)\n",
    "y_pred_binary = (y_pred > 0.5).astype(int)\n",
    "\n",
    "# Calculate evaluation metrics\n",
    "print(\"Loss using all features with SMOTE data:\", round(loss, 4))\n",
    "print(\"Accuracy using all features with SMOTE data:\", round(accuracy, 4))\n",
    "print(\"F1 Score using all features with SMOTE data:\", round(f1_score(y_test, y_pred_binary), 4))\n",
    "print(\"Sensitivity (Recall) using all features with SMOTE data:\", round(recall_score(y_test, y_pred_binary), 4))\n",
    "print(\"Specificity using all features with SMOTE data:\", round(recall_score(y_test, y_pred_binary, pos_label=0), 4))"
   ]
  },
  {
   "cell_type": "markdown",
   "id": "b05aa351",
   "metadata": {},
   "source": [
    "## Handling when using Chi-Square features"
   ]
  },
  {
   "cell_type": "code",
   "execution_count": 49,
   "id": "6423e011",
   "metadata": {},
   "outputs": [],
   "source": [
    "#We first of all have to join the features and target\n",
    "chi_data = pd.concat([Selected_feature_ChiSquare, target], axis = 1)\n",
    "#chi_data"
   ]
  },
  {
   "cell_type": "code",
   "execution_count": 50,
   "id": "9d6df35e",
   "metadata": {},
   "outputs": [
    {
     "name": "stdout",
     "output_type": "stream",
     "text": [
      "number of samples in the majority class cancer:  6193\n",
      "number of samples in the minority class cancer:  533\n"
     ]
    }
   ],
   "source": [
    "#we first have to separate the two classes\n",
    "majority_class_No_chi = chi_data[chi_data['metastasis'] == 0]\n",
    "minority_class_Yes_chi = chi_data[chi_data['metastasis'] == 1]\n",
    "\n",
    "print(\"number of samples in the majority class cancer: \",len(majority_class_No_chi.metastasis))\n",
    "print(\"number of samples in the minority class cancer: \",len(minority_class_Yes_chi.metastasis))"
   ]
  },
  {
   "cell_type": "markdown",
   "id": "2eb690b3",
   "metadata": {},
   "source": [
    "### Starting with RandomOversampling"
   ]
  },
  {
   "cell_type": "code",
   "execution_count": 51,
   "id": "f7e56300",
   "metadata": {},
   "outputs": [
    {
     "name": "stdout",
     "output_type": "stream",
     "text": [
      "Checking the shape of our data once more: \n",
      " 0    6193\n",
      "1    6193\n",
      "Name: metastasis, dtype: int64\n"
     ]
    }
   ],
   "source": [
    "# Upsample minority class to equal majority class\n",
    "minority_upsample_chi = resample(minority_class_Yes_chi, replace = True, n_samples = len(majority_class_No_chi), random_state = random_state)\n",
    "data_combined_upsample_chi = pd.concat([majority_class_No_chi, minority_upsample_chi])\n",
    "print(\"Checking the shape of our data once more: \\n\", data_combined_upsample_chi.metastasis.value_counts())"
   ]
  },
  {
   "cell_type": "code",
   "execution_count": 52,
   "id": "93041321",
   "metadata": {},
   "outputs": [],
   "source": [
    "#data_combined_upsample_chi #Checking our entire dataset"
   ]
  },
  {
   "cell_type": "markdown",
   "id": "4a4a09e9",
   "metadata": {},
   "source": [
    "### RandomDownsampling"
   ]
  },
  {
   "cell_type": "code",
   "execution_count": 53,
   "id": "2fdfc33b",
   "metadata": {},
   "outputs": [
    {
     "name": "stdout",
     "output_type": "stream",
     "text": [
      "Checking the shape of our data once more: \n",
      " 0    533\n",
      "1    533\n",
      "Name: metastasis, dtype: int64\n"
     ]
    }
   ],
   "source": [
    "# Downsample the majority class\n",
    "# Perform downsampling\n",
    "majority_downsampled_chi = resample(majority_class_No_chi, replace=False, n_samples=len(minority_class_Yes_chi), random_state=random_state)\n",
    "data_combined_downsample_chi = pd.concat([majority_downsampled_chi, minority_class_Yes_chi])\n",
    "print(\"Checking the shape of our data once more: \\n\", data_combined_downsample_chi.metastasis.value_counts())"
   ]
  },
  {
   "cell_type": "markdown",
   "id": "45f4ffe9",
   "metadata": {},
   "source": [
    "### SMOTE Technique"
   ]
  },
  {
   "cell_type": "code",
   "execution_count": 54,
   "id": "b6e16534",
   "metadata": {},
   "outputs": [],
   "source": [
    "#Now lets use the SMOTE technique to handle the imbalance data issues\n",
    "smote = SMOTE(random_state = random_state, k_neighbors=5)\n",
    "features_SMOTE_chi, target_SMOTE_chi = smote.fit_resample(Selected_feature_ChiSquare, target)"
   ]
  },
  {
   "cell_type": "code",
   "execution_count": 55,
   "id": "0674ae5a",
   "metadata": {},
   "outputs": [
    {
     "data": {
      "text/plain": [
       "metastasis\n",
       "0             6193\n",
       "1             6193\n",
       "dtype: int64"
      ]
     },
     "execution_count": 55,
     "metadata": {},
     "output_type": "execute_result"
    }
   ],
   "source": [
    "#Checking to see if SMOTE works\n",
    "target_SMOTE_chi.value_counts() "
   ]
  },
  {
   "cell_type": "markdown",
   "id": "57fde350",
   "metadata": {},
   "source": [
    "### Now we again pass our balanced chi-square dataset to our NN, but first lets prepare them"
   ]
  },
  {
   "cell_type": "markdown",
   "id": "da76bdd2",
   "metadata": {},
   "source": [
    "#### Preparing Upsampled Data"
   ]
  },
  {
   "cell_type": "code",
   "execution_count": 56,
   "id": "6b1d06fa",
   "metadata": {},
   "outputs": [],
   "source": [
    "#Now we split out balanced dataset into features and target class\n",
    "features_up_chi = data_combined_upsample_chi.drop(['metastasis'],axis = 1) #Selecting all independent varibles\n",
    "target_up_chi = data_combined_upsample_chi.loc[:,['metastasis']] #Picking only the target class"
   ]
  },
  {
   "cell_type": "markdown",
   "id": "0dd9a220",
   "metadata": {},
   "source": [
    "#### Preparing Downsampled data"
   ]
  },
  {
   "cell_type": "code",
   "execution_count": 57,
   "id": "26446cb2",
   "metadata": {},
   "outputs": [],
   "source": [
    "#Now we split out balanced dataset into features and target class\n",
    "features_down_chi = data_combined_downsample_chi.drop(['metastasis'],axis = 1) #Selecting all independent varibles\n",
    "target_down_chi = data_combined_downsample_chi.loc[:,['metastasis']] #Picking only the target class"
   ]
  },
  {
   "cell_type": "markdown",
   "id": "eb584926",
   "metadata": {},
   "source": [
    "#### Preparing SMOTE"
   ]
  },
  {
   "cell_type": "code",
   "execution_count": 58,
   "id": "9c2cf2fa",
   "metadata": {},
   "outputs": [],
   "source": [
    "#Now we split out balanced dataset into features and target class\n",
    "#features_SMOTE_chi \n",
    "#target_SMOTE_chi"
   ]
  },
  {
   "cell_type": "markdown",
   "id": "3ee6fd89",
   "metadata": {},
   "source": [
    "### Next is using CHI-SQUARE FEATURES (with Upsampled data, downsampled data, and SMOTE data)"
   ]
  },
  {
   "cell_type": "markdown",
   "id": "f52abdbe",
   "metadata": {},
   "source": [
    "#### We start using the upsampled data with Chi-square"
   ]
  },
  {
   "cell_type": "code",
   "execution_count": 59,
   "id": "e7e01163",
   "metadata": {},
   "outputs": [
    {
     "name": "stdout",
     "output_type": "stream",
     "text": [
      "Epoch 1/10\n",
      "244/244 [==============================] - 2s 4ms/step - loss: 0.5941 - acc: 0.6842 - val_loss: 0.5571 - val_acc: 0.7243\n",
      "Epoch 2/10\n",
      "244/244 [==============================] - 1s 3ms/step - loss: 0.5546 - acc: 0.7215 - val_loss: 0.5437 - val_acc: 0.7347\n",
      "Epoch 3/10\n",
      "244/244 [==============================] - 1s 3ms/step - loss: 0.5520 - acc: 0.7254 - val_loss: 0.5412 - val_acc: 0.7290\n",
      "Epoch 4/10\n",
      "244/244 [==============================] - 1s 3ms/step - loss: 0.5439 - acc: 0.7333 - val_loss: 0.5378 - val_acc: 0.7347\n",
      "Epoch 5/10\n",
      "244/244 [==============================] - 1s 3ms/step - loss: 0.5406 - acc: 0.7350 - val_loss: 0.5359 - val_acc: 0.7405\n",
      "Epoch 6/10\n",
      "244/244 [==============================] - 1s 3ms/step - loss: 0.5416 - acc: 0.7372 - val_loss: 0.5355 - val_acc: 0.7463\n",
      "Epoch 7/10\n",
      "244/244 [==============================] - 1s 3ms/step - loss: 0.5402 - acc: 0.7392 - val_loss: 0.5340 - val_acc: 0.7359\n",
      "Epoch 8/10\n",
      "244/244 [==============================] - 1s 3ms/step - loss: 0.5366 - acc: 0.7405 - val_loss: 0.5319 - val_acc: 0.7405\n",
      "Epoch 9/10\n",
      "244/244 [==============================] - 1s 3ms/step - loss: 0.5354 - acc: 0.7447 - val_loss: 0.5318 - val_acc: 0.7416\n",
      "Epoch 10/10\n",
      "244/244 [==============================] - 1s 3ms/step - loss: 0.5344 - acc: 0.7439 - val_loss: 0.5310 - val_acc: 0.7509\n",
      "117/117 [==============================] - 0s 2ms/step - loss: 0.5310 - acc: 0.7438\n",
      "117/117 [==============================] - 0s 2ms/step\n",
      "Loss using Chi-Square features with upsampled data: 0.531\n",
      "Accuracy using Chi-Square features with upsampled data: 0.7438\n",
      "F1 Score using Chi-Square features with upsampled data: 0.7472\n",
      "Sensitivity (Recall) using Chi-Square features with upsampled data: 0.7634\n",
      "Specificity using Chi-Square features with upsampled data: 0.7245\n"
     ]
    }
   ],
   "source": [
    "# Split data into training and testing sets\n",
    "X_train, X_test, y_train, y_test = train_test_split(features_up_chi, target_up_chi, test_size=0.3, random_state=random_state)\n",
    "\n",
    "min_max_scale = MinMaxScaler()\n",
    "X_train_scaled = min_max_scale.fit_transform(X_train)\n",
    "X_test_scaled = min_max_scale.transform(X_test)\n",
    "\n",
    "# Define neural network model\n",
    "model_chi_up = Sequential()\n",
    "model_chi_up.add(Dense(64, activation = 'relu', input_shape = (X_train.shape[1],)))\n",
    "model_chi_up.add(Dropout(0.2))\n",
    "model_chi_up.add(Dense(32, activation = 'relu'))\n",
    "model_chi_up.add(Dropout(0.2))\n",
    "model_chi_up.add(Dense(1, activation = 'sigmoid'))\n",
    "\n",
    "model_chi_up.compile(optimizer = 'adam', loss = 'binary_crossentropy', metrics = ['acc'])\n",
    "model_chi_up.fit(X_train_scaled, y_train, epochs = 10, batch_size = 32, validation_split = 0.1, verbose = 1)\n",
    "\n",
    "loss, accuracy = model_chi_up.evaluate(X_test_scaled, y_test)\n",
    "\n",
    "y_pred = model_chi_up.predict(X_test_scaled)\n",
    "y_pred_binary = (y_pred > 0.5).astype(int)\n",
    "\n",
    "# Calculate evaluation metrics\n",
    "print(\"Loss using Chi-Square features with upsampled data:\", round(loss, 4))\n",
    "print(\"Accuracy using Chi-Square features with upsampled data:\", round(accuracy, 4))\n",
    "print(\"F1 Score using Chi-Square features with upsampled data:\", round(f1_score(y_test, y_pred_binary), 4))\n",
    "print(\"Sensitivity (Recall) using Chi-Square features with upsampled data:\", round(recall_score(y_test, y_pred_binary), 4))\n",
    "print(\"Specificity using Chi-Square features with upsampled data:\", round(recall_score(y_test, y_pred_binary, pos_label=0), 4))\n"
   ]
  },
  {
   "cell_type": "markdown",
   "id": "00ae252b",
   "metadata": {},
   "source": [
    "#### We using the downsampled data with Chi-Square Features"
   ]
  },
  {
   "cell_type": "code",
   "execution_count": 60,
   "id": "11f1cd3a",
   "metadata": {},
   "outputs": [
    {
     "name": "stdout",
     "output_type": "stream",
     "text": [
      "Epoch 1/10\n",
      "21/21 [==============================] - 1s 18ms/step - loss: 0.6955 - acc: 0.5022 - val_loss: 0.6539 - val_acc: 0.7200\n",
      "Epoch 2/10\n",
      "21/21 [==============================] - 0s 5ms/step - loss: 0.6602 - acc: 0.6215 - val_loss: 0.6209 - val_acc: 0.7600\n",
      "Epoch 3/10\n",
      "21/21 [==============================] - 0s 6ms/step - loss: 0.6290 - acc: 0.6751 - val_loss: 0.5867 - val_acc: 0.7600\n",
      "Epoch 4/10\n",
      "21/21 [==============================] - 0s 5ms/step - loss: 0.6146 - acc: 0.6781 - val_loss: 0.5565 - val_acc: 0.7600\n",
      "Epoch 5/10\n",
      "21/21 [==============================] - 0s 6ms/step - loss: 0.5977 - acc: 0.6706 - val_loss: 0.5387 - val_acc: 0.7733\n",
      "Epoch 6/10\n",
      "21/21 [==============================] - 0s 6ms/step - loss: 0.5879 - acc: 0.6900 - val_loss: 0.5298 - val_acc: 0.7600\n",
      "Epoch 7/10\n",
      "21/21 [==============================] - 0s 5ms/step - loss: 0.5861 - acc: 0.6990 - val_loss: 0.5241 - val_acc: 0.7733\n",
      "Epoch 8/10\n",
      "21/21 [==============================] - 0s 5ms/step - loss: 0.5823 - acc: 0.7064 - val_loss: 0.5206 - val_acc: 0.7600\n",
      "Epoch 9/10\n",
      "21/21 [==============================] - 0s 5ms/step - loss: 0.5814 - acc: 0.6855 - val_loss: 0.5174 - val_acc: 0.7600\n",
      "Epoch 10/10\n",
      "21/21 [==============================] - 0s 6ms/step - loss: 0.5762 - acc: 0.6960 - val_loss: 0.5176 - val_acc: 0.7733\n",
      "10/10 [==============================] - 0s 3ms/step - loss: 0.5747 - acc: 0.7031\n",
      "10/10 [==============================] - 0s 2ms/step\n",
      "Loss using Chi-square features with downsampled data: 0.5747\n",
      "Accuracy using Chi-square features with downsampled data: 0.7031\n",
      "F1 Score using Chi-square features with downsampled data: 0.7022\n",
      "Sensitivity (Recall) using Chi-square features with downsampled data: 0.7417\n",
      "Specificity using Chi-square features with downsampled data: 0.6686\n"
     ]
    }
   ],
   "source": [
    "# Split data into training and testing sets\n",
    "X_train, X_test, y_train, y_test = train_test_split(features_down_chi, target_down_chi, test_size=0.3, random_state=random_state)\n",
    "\n",
    "min_max_scale = MinMaxScaler()\n",
    "X_train_scaled = min_max_scale.fit_transform(X_train)\n",
    "X_test_scaled = min_max_scale.transform(X_test)\n",
    "\n",
    "# Define neural network model\n",
    "model_chi_down = Sequential()\n",
    "model_chi_down.add(Dense(64, activation = 'relu', input_shape = (X_train.shape[1],)))\n",
    "model_chi_down.add(Dropout(0.2))\n",
    "model_chi_down.add(Dense(32, activation = 'relu'))\n",
    "model_chi_down.add(Dropout(0.2))\n",
    "model_chi_down.add(Dense(1, activation = 'sigmoid'))\n",
    "\n",
    "model_chi_down.compile(optimizer = 'adam', loss = 'binary_crossentropy', metrics = ['acc'])\n",
    "model_chi_down.fit(X_train_scaled, y_train, epochs = 10, batch_size = 32, validation_split = 0.1, verbose = 1)\n",
    "\n",
    "loss, accuracy = model_chi_down.evaluate(X_test_scaled, y_test)\n",
    "\n",
    "y_pred = model_chi_down.predict(X_test_scaled)\n",
    "y_pred_binary = (y_pred > 0.5).astype(int)\n",
    "\n",
    "# Calculate evaluation metrics\n",
    "print(\"Loss using Chi-square features with downsampled data:\", round(loss, 4))\n",
    "print(\"Accuracy using Chi-square features with downsampled data:\", round(accuracy, 4))\n",
    "print(\"F1 Score using Chi-square features with downsampled data:\", round(f1_score(y_test, y_pred_binary), 4))\n",
    "print(\"Sensitivity (Recall) using Chi-square features with downsampled data:\", round(recall_score(y_test, y_pred_binary), 4))\n",
    "print(\"Specificity using Chi-square features with downsampled data:\", round(recall_score(y_test, y_pred_binary, pos_label=0), 4))"
   ]
  },
  {
   "cell_type": "markdown",
   "id": "a6b25738",
   "metadata": {},
   "source": [
    "#### We using the SMOTE data with chi-square features"
   ]
  },
  {
   "cell_type": "code",
   "execution_count": 61,
   "id": "7e02c919",
   "metadata": {},
   "outputs": [
    {
     "name": "stdout",
     "output_type": "stream",
     "text": [
      "Epoch 1/10\n",
      "244/244 [==============================] - 2s 4ms/step - loss: 0.5854 - acc: 0.6988 - val_loss: 0.5670 - val_acc: 0.7001\n",
      "Epoch 2/10\n",
      "244/244 [==============================] - 1s 3ms/step - loss: 0.5588 - acc: 0.7222 - val_loss: 0.5569 - val_acc: 0.7059\n",
      "Epoch 3/10\n",
      "244/244 [==============================] - 1s 3ms/step - loss: 0.5488 - acc: 0.7292 - val_loss: 0.5506 - val_acc: 0.7082\n",
      "Epoch 4/10\n",
      "244/244 [==============================] - 1s 3ms/step - loss: 0.5425 - acc: 0.7382 - val_loss: 0.5394 - val_acc: 0.7266\n",
      "Epoch 5/10\n",
      "244/244 [==============================] - 1s 3ms/step - loss: 0.5383 - acc: 0.7363 - val_loss: 0.5361 - val_acc: 0.7232\n",
      "Epoch 6/10\n",
      "244/244 [==============================] - 1s 3ms/step - loss: 0.5366 - acc: 0.7364 - val_loss: 0.5372 - val_acc: 0.7232\n",
      "Epoch 7/10\n",
      "244/244 [==============================] - 1s 3ms/step - loss: 0.5309 - acc: 0.7446 - val_loss: 0.5355 - val_acc: 0.7220\n",
      "Epoch 8/10\n",
      "244/244 [==============================] - 1s 3ms/step - loss: 0.5267 - acc: 0.7454 - val_loss: 0.5316 - val_acc: 0.7278\n",
      "Epoch 9/10\n",
      "244/244 [==============================] - 1s 3ms/step - loss: 0.5250 - acc: 0.7474 - val_loss: 0.5302 - val_acc: 0.7232\n",
      "Epoch 10/10\n",
      "244/244 [==============================] - 1s 3ms/step - loss: 0.5255 - acc: 0.7454 - val_loss: 0.5308 - val_acc: 0.7290\n",
      "117/117 [==============================] - 0s 2ms/step - loss: 0.5378 - acc: 0.7435\n",
      "117/117 [==============================] - 0s 2ms/step\n",
      "Loss using Chi_square features with SMOTE data: 0.5378\n",
      "Accuracy using Chi_square features with SMOTE data: 0.7435\n",
      "F1 Score using Chi_square features with SMOTE data: 0.7377\n",
      "Sensitivity (Recall) using Chi_square features with SMOTE data: 0.7197\n",
      "Specificity using Chi_square features with SMOTE data: 0.7675\n"
     ]
    }
   ],
   "source": [
    "# Split data into training and testing sets\n",
    "X_train, X_test, y_train, y_test = train_test_split(features_SMOTE_chi , target_SMOTE_chi, test_size=0.3, random_state=random_state)\n",
    "\n",
    "min_max_scale = MinMaxScaler()\n",
    "X_train_scaled = min_max_scale.fit_transform(X_train)\n",
    "X_test_scaled = min_max_scale.transform(X_test)\n",
    "\n",
    "# Define neural network model\n",
    "model_chi_SMOTE = Sequential()\n",
    "model_chi_SMOTE.add(Dense(64, activation = 'relu', input_shape = (X_train.shape[1],)))\n",
    "model_chi_SMOTE.add(Dropout(0.2))\n",
    "model_chi_SMOTE.add(Dense(32, activation = 'relu'))\n",
    "model_chi_SMOTE.add(Dropout(0.2))\n",
    "model_chi_SMOTE.add(Dense(1, activation = 'sigmoid'))\n",
    "\n",
    "model_chi_SMOTE.compile(optimizer = 'adam', loss = 'binary_crossentropy', metrics = ['acc'])\n",
    "model_chi_SMOTE.fit(X_train_scaled, y_train, epochs = 10, batch_size = 32, validation_split = 0.1, verbose = 1)\n",
    "\n",
    "loss, accuracy = model_chi_SMOTE.evaluate(X_test_scaled, y_test)\n",
    "\n",
    "y_pred = model_chi_SMOTE.predict(X_test_scaled)\n",
    "y_pred_binary = (y_pred > 0.5).astype(int)\n",
    "\n",
    "# Calculate evaluation metrics\n",
    "print(\"Loss using Chi_square features with SMOTE data:\", round(loss, 4))\n",
    "print(\"Accuracy using Chi_square features with SMOTE data:\", round(accuracy, 4))\n",
    "print(\"F1 Score using Chi_square features with SMOTE data:\", round(f1_score(y_test, y_pred_binary), 4))\n",
    "print(\"Sensitivity (Recall) using Chi_square features with SMOTE data:\", round(recall_score(y_test, y_pred_binary), 4))\n",
    "print(\"Specificity using Chi_square features with SMOTE data:\", round(recall_score(y_test, y_pred_binary, pos_label=0), 4))"
   ]
  },
  {
   "cell_type": "markdown",
   "id": "c9376b7e",
   "metadata": {},
   "source": [
    "## Handling when using RF-GI features"
   ]
  },
  {
   "cell_type": "code",
   "execution_count": 62,
   "id": "0b94ef7c",
   "metadata": {},
   "outputs": [],
   "source": [
    "#We first of all have to join the features and target\n",
    "RIGI_data = pd.concat([Selected_feature_RF_GiniIndex, target], axis = 1)\n",
    "#RIGI_data"
   ]
  },
  {
   "cell_type": "code",
   "execution_count": 63,
   "id": "795bba5a",
   "metadata": {},
   "outputs": [
    {
     "name": "stdout",
     "output_type": "stream",
     "text": [
      "number of samples in the majority class cancer:  6193\n",
      "number of samples in the minority class cancer:  533\n"
     ]
    }
   ],
   "source": [
    "#we first have to separate the two classes\n",
    "majority_class_No_RFGI = RIGI_data[chi_data['metastasis'] == 0]\n",
    "minority_class_Yes_RFGI = RIGI_data[chi_data['metastasis'] == 1]\n",
    "\n",
    "print(\"number of samples in the majority class cancer: \",len(majority_class_No_RFGI.metastasis))\n",
    "print(\"number of samples in the minority class cancer: \",len(minority_class_Yes_RFGI.metastasis))"
   ]
  },
  {
   "cell_type": "markdown",
   "id": "5249c1ba",
   "metadata": {},
   "source": [
    "### Starting with RandomOversampling"
   ]
  },
  {
   "cell_type": "code",
   "execution_count": 64,
   "id": "24ede687",
   "metadata": {},
   "outputs": [
    {
     "name": "stdout",
     "output_type": "stream",
     "text": [
      "Checking the shape of our data once more: \n",
      " 0    6193\n",
      "1    6193\n",
      "Name: metastasis, dtype: int64\n"
     ]
    }
   ],
   "source": [
    "# Upsample minority class to equal majority class\n",
    "minority_upsample_RFGI = resample(minority_class_Yes_RFGI, replace = True, n_samples = len(majority_class_No_RFGI), random_state = random_state)\n",
    "data_combined_upsample_RFGI = pd.concat([majority_class_No_RFGI, minority_upsample_RFGI])\n",
    "print(\"Checking the shape of our data once more: \\n\", data_combined_upsample_RFGI.metastasis.value_counts())"
   ]
  },
  {
   "cell_type": "markdown",
   "id": "73c4b0f3",
   "metadata": {},
   "source": [
    "### RandomDownsampling"
   ]
  },
  {
   "cell_type": "code",
   "execution_count": 65,
   "id": "62d64380",
   "metadata": {},
   "outputs": [
    {
     "name": "stdout",
     "output_type": "stream",
     "text": [
      "Checking the shape of our data once more: \n",
      " 0    533\n",
      "1    533\n",
      "Name: metastasis, dtype: int64\n"
     ]
    }
   ],
   "source": [
    "# Downsample the majority class\n",
    "# Perform downsampling\n",
    "majority_downsampled_RFGI = resample(majority_class_No_RFGI, replace=False, n_samples=len(minority_class_Yes_RFGI), random_state=random_state)\n",
    "data_combined_downsample_RFGI = pd.concat([majority_downsampled_RFGI, minority_class_Yes_RFGI])\n",
    "print(\"Checking the shape of our data once more: \\n\", data_combined_downsample_RFGI.metastasis.value_counts())"
   ]
  },
  {
   "cell_type": "markdown",
   "id": "262ee926",
   "metadata": {},
   "source": [
    "### SMOTE Technique"
   ]
  },
  {
   "cell_type": "code",
   "execution_count": 66,
   "id": "f2fff2ee",
   "metadata": {},
   "outputs": [],
   "source": [
    "#Now lets use the SMOTE technique to handle the imbalance data issues\n",
    "smote = SMOTE(random_state = random_state, k_neighbors=5)\n",
    "features_SMOTE_RFGI, target_SMOTE_RFGI = smote.fit_resample(Selected_feature_RF_GiniIndex, target)"
   ]
  },
  {
   "cell_type": "code",
   "execution_count": 67,
   "id": "c28bcdca",
   "metadata": {},
   "outputs": [
    {
     "data": {
      "text/plain": [
       "metastasis\n",
       "0             6193\n",
       "1             6193\n",
       "dtype: int64"
      ]
     },
     "execution_count": 67,
     "metadata": {},
     "output_type": "execute_result"
    }
   ],
   "source": [
    "#Checking to see if SMOTE works\n",
    "target_SMOTE_chi.value_counts() "
   ]
  },
  {
   "cell_type": "markdown",
   "id": "24cb5939",
   "metadata": {},
   "source": [
    "### Now we again pass our balanced chi-square dataset to our NN, but first lets prepare them"
   ]
  },
  {
   "cell_type": "markdown",
   "id": "c3afd134",
   "metadata": {},
   "source": [
    "#### Preparing Upsampled Data"
   ]
  },
  {
   "cell_type": "code",
   "execution_count": 68,
   "id": "e7964a04",
   "metadata": {},
   "outputs": [],
   "source": [
    "#Now we split out balanced dataset into features and target class\n",
    "features_up_RFGI = data_combined_upsample_RFGI.drop(['metastasis'],axis = 1) #Selecting all independent varibles\n",
    "target_up_RFGI = data_combined_upsample_RFGI.loc[:,['metastasis']] #Picking only the target class"
   ]
  },
  {
   "cell_type": "markdown",
   "id": "dc32ff27",
   "metadata": {},
   "source": [
    "#### Preparing Downsampled data"
   ]
  },
  {
   "cell_type": "code",
   "execution_count": 69,
   "id": "21f82d3f",
   "metadata": {},
   "outputs": [],
   "source": [
    "#Now we split out balanced dataset into features and target class\n",
    "features_down_RFGI = data_combined_downsample_RFGI.drop(['metastasis'],axis = 1) #Selecting all independent varibles\n",
    "target_down_RFGI = data_combined_downsample_RFGI.loc[:,['metastasis']] #Picking only the target class"
   ]
  },
  {
   "cell_type": "markdown",
   "id": "2c879290",
   "metadata": {},
   "source": [
    "#### Preparing SMOTE"
   ]
  },
  {
   "cell_type": "code",
   "execution_count": 70,
   "id": "19a0cdd2",
   "metadata": {},
   "outputs": [],
   "source": [
    "#Now we split out balanced dataset into features and target class\n",
    "#features_SMOTE_RFGI \n",
    "#target_SMOTE_RFGI"
   ]
  },
  {
   "cell_type": "markdown",
   "id": "1de3e144",
   "metadata": {},
   "source": [
    "### Next is using RFGI FEATURES (with Upsampled data, downsampled data, and SMOTE data)"
   ]
  },
  {
   "cell_type": "markdown",
   "id": "7b54f459",
   "metadata": {},
   "source": [
    "#### We start using the upsampled data with RFGI features"
   ]
  },
  {
   "cell_type": "code",
   "execution_count": 71,
   "id": "417423f4",
   "metadata": {},
   "outputs": [
    {
     "name": "stdout",
     "output_type": "stream",
     "text": [
      "Epoch 1/10\n",
      "244/244 [==============================] - 2s 3ms/step - loss: 0.6255 - acc: 0.6617 - val_loss: 0.5974 - val_acc: 0.6840\n",
      "Epoch 2/10\n",
      "244/244 [==============================] - 1s 3ms/step - loss: 0.5902 - acc: 0.6933 - val_loss: 0.5866 - val_acc: 0.6943\n",
      "Epoch 3/10\n",
      "244/244 [==============================] - 1s 3ms/step - loss: 0.5740 - acc: 0.7042 - val_loss: 0.5782 - val_acc: 0.7059\n",
      "Epoch 4/10\n",
      "244/244 [==============================] - 1s 3ms/step - loss: 0.5580 - acc: 0.7173 - val_loss: 0.5695 - val_acc: 0.7151\n",
      "Epoch 5/10\n",
      "244/244 [==============================] - 1s 3ms/step - loss: 0.5467 - acc: 0.7296 - val_loss: 0.5640 - val_acc: 0.7082\n",
      "Epoch 6/10\n",
      "244/244 [==============================] - 1s 3ms/step - loss: 0.5390 - acc: 0.7366 - val_loss: 0.5566 - val_acc: 0.7209\n",
      "Epoch 7/10\n",
      "244/244 [==============================] - 1s 4ms/step - loss: 0.5329 - acc: 0.7373 - val_loss: 0.5504 - val_acc: 0.7197\n",
      "Epoch 8/10\n",
      "244/244 [==============================] - 1s 3ms/step - loss: 0.5292 - acc: 0.7386 - val_loss: 0.5474 - val_acc: 0.7451\n",
      "Epoch 9/10\n",
      "244/244 [==============================] - 1s 4ms/step - loss: 0.5235 - acc: 0.7434 - val_loss: 0.5441 - val_acc: 0.7336\n",
      "Epoch 10/10\n",
      "244/244 [==============================] - 1s 3ms/step - loss: 0.5180 - acc: 0.7471 - val_loss: 0.5396 - val_acc: 0.7359\n",
      "117/117 [==============================] - 0s 2ms/step - loss: 0.5082 - acc: 0.7562\n",
      "117/117 [==============================] - 0s 3ms/step\n",
      "Loss using RFGI features with upsampled data: 0.5082\n",
      "Accuracy using RFGI features with upsampled data: 0.7562\n",
      "F1 Score using RFGI features with upsampled data: 0.7583\n",
      "Sensitivity (Recall) using RFGI features with upsampled data: 0.771\n",
      "Specificity using RFGI features with upsampled data: 0.7416\n"
     ]
    }
   ],
   "source": [
    "# Split data into training and testing sets\n",
    "X_train, X_test, y_train, y_test = train_test_split(features_up_RFGI, target_up_RFGI, test_size=0.3, random_state=random_state)\n",
    "\n",
    "min_max_scale = MinMaxScaler()\n",
    "X_train_scaled = min_max_scale.fit_transform(X_train)\n",
    "X_test_scaled = min_max_scale.transform(X_test)\n",
    "\n",
    "# Define neural network model\n",
    "model_RFGI_up = Sequential()\n",
    "model_RFGI_up.add(Dense(64, activation = 'relu', input_shape = (X_train.shape[1],)))\n",
    "model_RFGI_up.add(Dropout(0.2))\n",
    "model_RFGI_up.add(Dense(32, activation = 'relu'))\n",
    "model_RFGI_up.add(Dropout(0.2))\n",
    "model_RFGI_up.add(Dense(1, activation = 'sigmoid'))\n",
    "\n",
    "model_RFGI_up.compile(optimizer = 'adam', loss = 'binary_crossentropy', metrics = ['acc'])\n",
    "model_RFGI_up.fit(X_train_scaled, y_train, epochs = 10, batch_size = 32, validation_split = 0.1, verbose = 1)\n",
    "\n",
    "loss, accuracy = model_RFGI_up.evaluate(X_test_scaled, y_test)\n",
    "\n",
    "y_pred = model_RFGI_up.predict(X_test_scaled)\n",
    "y_pred_binary = (y_pred > 0.5).astype(int)\n",
    "\n",
    "# Calculate evaluation metrics\n",
    "print(\"Loss using RFGI features with upsampled data:\", round(loss, 4))\n",
    "print(\"Accuracy using RFGI features with upsampled data:\", round(accuracy, 4))\n",
    "print(\"F1 Score using RFGI features with upsampled data:\", round(f1_score(y_test, y_pred_binary), 4))\n",
    "print(\"Sensitivity (Recall) using RFGI features with upsampled data:\", round(recall_score(y_test, y_pred_binary), 4))\n",
    "print(\"Specificity using RFGI features with upsampled data:\", round(recall_score(y_test, y_pred_binary, pos_label=0), 4))\n"
   ]
  },
  {
   "cell_type": "markdown",
   "id": "fb76504f",
   "metadata": {},
   "source": [
    "#### We using the downsampled data with RFGI Features"
   ]
  },
  {
   "cell_type": "code",
   "execution_count": 72,
   "id": "7f44fc7b",
   "metadata": {},
   "outputs": [
    {
     "name": "stdout",
     "output_type": "stream",
     "text": [
      "Epoch 1/10\n",
      "21/21 [==============================] - 1s 14ms/step - loss: 0.7020 - acc: 0.5022 - val_loss: 0.6805 - val_acc: 0.6533\n",
      "Epoch 2/10\n",
      "21/21 [==============================] - 0s 6ms/step - loss: 0.6857 - acc: 0.5797 - val_loss: 0.6655 - val_acc: 0.7067\n",
      "Epoch 3/10\n",
      "21/21 [==============================] - 0s 6ms/step - loss: 0.6719 - acc: 0.6080 - val_loss: 0.6487 - val_acc: 0.7200\n",
      "Epoch 4/10\n",
      "21/21 [==============================] - 0s 6ms/step - loss: 0.6626 - acc: 0.6364 - val_loss: 0.6330 - val_acc: 0.6800\n",
      "Epoch 5/10\n",
      "21/21 [==============================] - 0s 7ms/step - loss: 0.6529 - acc: 0.6319 - val_loss: 0.6186 - val_acc: 0.6667\n",
      "Epoch 6/10\n",
      "21/21 [==============================] - 0s 7ms/step - loss: 0.6464 - acc: 0.6334 - val_loss: 0.6083 - val_acc: 0.6933\n",
      "Epoch 7/10\n",
      "21/21 [==============================] - 0s 6ms/step - loss: 0.6443 - acc: 0.6438 - val_loss: 0.6008 - val_acc: 0.7067\n",
      "Epoch 8/10\n",
      "21/21 [==============================] - 0s 5ms/step - loss: 0.6357 - acc: 0.6453 - val_loss: 0.5923 - val_acc: 0.7200\n",
      "Epoch 9/10\n",
      "21/21 [==============================] - 0s 5ms/step - loss: 0.6311 - acc: 0.6393 - val_loss: 0.5857 - val_acc: 0.7200\n",
      "Epoch 10/10\n",
      "21/21 [==============================] - 0s 5ms/step - loss: 0.6255 - acc: 0.6453 - val_loss: 0.5833 - val_acc: 0.7200\n",
      "10/10 [==============================] - 0s 3ms/step - loss: 0.6018 - acc: 0.6906\n",
      "10/10 [==============================] - 0s 2ms/step\n",
      "Loss using RFGI features with downsampled data: 0.6018\n",
      "Accuracy using RFGI features with downsampled data: 0.6906\n",
      "F1 Score using RFGI features with downsampled data: 0.713\n",
      "Sensitivity (Recall) using RFGI features with downsampled data: 0.8146\n",
      "Specificity using RFGI features with downsampled data: 0.5799\n"
     ]
    }
   ],
   "source": [
    "# Split data into training and testing sets\n",
    "X_train, X_test, y_train, y_test = train_test_split(features_down_RFGI, target_down_RFGI, test_size=0.3, random_state=random_state)\n",
    "\n",
    "min_max_scale = MinMaxScaler()\n",
    "X_train_scaled = min_max_scale.fit_transform(X_train)\n",
    "X_test_scaled = min_max_scale.transform(X_test)\n",
    "\n",
    "# Define neural network model\n",
    "model_RFGI_down = Sequential()\n",
    "model_RFGI_down.add(Dense(64, activation = 'relu', input_shape = (X_train.shape[1],)))\n",
    "model_RFGI_down.add(Dropout(0.2))\n",
    "model_RFGI_down.add(Dense(32, activation = 'relu'))\n",
    "model_RFGI_down.add(Dropout(0.2))\n",
    "model_RFGI_down.add(Dense(1, activation = 'sigmoid'))\n",
    "\n",
    "model_RFGI_down.compile(optimizer = 'adam', loss = 'binary_crossentropy', metrics = ['acc'])\n",
    "model_RFGI_down.fit(X_train_scaled, y_train, epochs = 10, batch_size = 32, validation_split = 0.1, verbose = 1)\n",
    "\n",
    "loss, accuracy = model_RFGI_down.evaluate(X_test_scaled, y_test)\n",
    "\n",
    "y_pred = model_RFGI_down.predict(X_test_scaled)\n",
    "y_pred_binary = (y_pred > 0.5).astype(int)\n",
    "\n",
    "# Calculate evaluation metrics\n",
    "print(\"Loss using RFGI features with downsampled data:\", round(loss, 4))\n",
    "print(\"Accuracy using RFGI features with downsampled data:\", round(accuracy, 4))\n",
    "print(\"F1 Score using RFGI features with downsampled data:\", round(f1_score(y_test, y_pred_binary), 4))\n",
    "print(\"Sensitivity (Recall) using RFGI features with downsampled data:\", round(recall_score(y_test, y_pred_binary), 4))\n",
    "print(\"Specificity using RFGI features with downsampled data:\", round(recall_score(y_test, y_pred_binary, pos_label=0), 4))"
   ]
  },
  {
   "cell_type": "markdown",
   "id": "5a04c7af",
   "metadata": {},
   "source": [
    "#### We using the SMOTE data with RFGI features"
   ]
  },
  {
   "cell_type": "code",
   "execution_count": 73,
   "id": "aa74b03c",
   "metadata": {},
   "outputs": [
    {
     "name": "stdout",
     "output_type": "stream",
     "text": [
      "Epoch 1/10\n",
      "244/244 [==============================] - 2s 3ms/step - loss: 0.6241 - acc: 0.6549 - val_loss: 0.5688 - val_acc: 0.7128\n",
      "Epoch 2/10\n",
      "244/244 [==============================] - 1s 3ms/step - loss: 0.5703 - acc: 0.7101 - val_loss: 0.5462 - val_acc: 0.7278\n",
      "Epoch 3/10\n",
      "244/244 [==============================] - 1s 3ms/step - loss: 0.5440 - acc: 0.7301 - val_loss: 0.5283 - val_acc: 0.7416\n",
      "Epoch 4/10\n",
      "244/244 [==============================] - 1s 3ms/step - loss: 0.5271 - acc: 0.7460 - val_loss: 0.5045 - val_acc: 0.7486\n",
      "Epoch 5/10\n",
      "244/244 [==============================] - 1s 3ms/step - loss: 0.5148 - acc: 0.7557 - val_loss: 0.4953 - val_acc: 0.7601\n",
      "Epoch 6/10\n",
      "244/244 [==============================] - 1s 3ms/step - loss: 0.5023 - acc: 0.7648 - val_loss: 0.4856 - val_acc: 0.7589\n",
      "Epoch 7/10\n",
      "244/244 [==============================] - 1s 3ms/step - loss: 0.4947 - acc: 0.7732 - val_loss: 0.4770 - val_acc: 0.7705\n",
      "Epoch 8/10\n",
      "244/244 [==============================] - 1s 3ms/step - loss: 0.4881 - acc: 0.7769 - val_loss: 0.4683 - val_acc: 0.7762\n",
      "Epoch 9/10\n",
      "244/244 [==============================] - 1s 3ms/step - loss: 0.4789 - acc: 0.7768 - val_loss: 0.4688 - val_acc: 0.7785\n",
      "Epoch 10/10\n",
      "244/244 [==============================] - 1s 3ms/step - loss: 0.4763 - acc: 0.7809 - val_loss: 0.4673 - val_acc: 0.7728\n",
      "117/117 [==============================] - 0s 2ms/step - loss: 0.4808 - acc: 0.7742\n",
      "117/117 [==============================] - 0s 2ms/step\n",
      "Loss using RFGI features with SMOTE data: 0.4808\n",
      "Accuracy using RFGI features with SMOTE data: 0.7742\n",
      "F1 Score using RFGI features with SMOTE data: 0.7924\n",
      "Sensitivity (Recall) using RFGI features with SMOTE data: 0.8598\n",
      "Specificity using RFGI features with SMOTE data: 0.6882\n"
     ]
    }
   ],
   "source": [
    "# Split data into training and testing sets\n",
    "X_train, X_test, y_train, y_test = train_test_split(features_SMOTE_RFGI , target_SMOTE_RFGI, test_size=0.3, random_state=random_state)\n",
    "\n",
    "min_max_scale = MinMaxScaler()\n",
    "X_train_scaled = min_max_scale.fit_transform(X_train)\n",
    "X_test_scaled = min_max_scale.transform(X_test)\n",
    "\n",
    "# Define neural network model\n",
    "model_RFGI_SMOTE = Sequential()\n",
    "model_RFGI_SMOTE.add(Dense(64, activation = 'relu', input_shape = (X_train.shape[1],)))\n",
    "model_RFGI_SMOTE.add(Dropout(0.2))\n",
    "model_RFGI_SMOTE.add(Dense(32, activation = 'relu'))\n",
    "model_RFGI_SMOTE.add(Dropout(0.2))\n",
    "model_RFGI_SMOTE.add(Dense(1, activation = 'sigmoid'))\n",
    "\n",
    "model_RFGI_SMOTE.compile(optimizer = 'adam', loss = 'binary_crossentropy', metrics = ['acc'])\n",
    "model_RFGI_SMOTE.fit(X_train_scaled, y_train, epochs = 10, batch_size = 32, validation_split = 0.1, verbose = 1)\n",
    "\n",
    "loss, accuracy = model_RFGI_SMOTE.evaluate(X_test_scaled, y_test)\n",
    "\n",
    "y_pred = model_RFGI_SMOTE.predict(X_test_scaled)\n",
    "y_pred_binary = (y_pred > 0.5).astype(int)\n",
    "\n",
    "# Calculate evaluation metrics\n",
    "print(\"Loss using RFGI features with SMOTE data:\", round(loss, 4))\n",
    "print(\"Accuracy using RFGI features with SMOTE data:\", round(accuracy, 4))\n",
    "print(\"F1 Score using RFGI features with SMOTE data:\", round(f1_score(y_test, y_pred_binary), 4))\n",
    "print(\"Sensitivity (Recall) using RFGI features with SMOTE data:\", round(recall_score(y_test, y_pred_binary), 4))\n",
    "print(\"Specificity using RFGI features with SMOTE data:\", round(recall_score(y_test, y_pred_binary, pos_label=0), 4))"
   ]
  },
  {
   "cell_type": "markdown",
   "id": "4d6ce4f6",
   "metadata": {},
   "source": [
    "## Handling when using JAYA features"
   ]
  },
  {
   "cell_type": "code",
   "execution_count": 74,
   "id": "3790e02c",
   "metadata": {},
   "outputs": [],
   "source": [
    "#We first of all have to join the features and target\n",
    "jaya_data = pd.concat([Selected_feature_JA, target], axis = 1)\n",
    "#jaya_data"
   ]
  },
  {
   "cell_type": "code",
   "execution_count": 75,
   "id": "16278dde",
   "metadata": {},
   "outputs": [
    {
     "name": "stdout",
     "output_type": "stream",
     "text": [
      "number of samples in the majority class cancer:  6193\n",
      "number of samples in the minority class cancer:  533\n"
     ]
    }
   ],
   "source": [
    "#we first have to separate the two classes\n",
    "majority_class_No_jaya = jaya_data[jaya_data['metastasis'] == 0]\n",
    "minority_class_Yes_jaya = jaya_data[jaya_data['metastasis'] == 1]\n",
    "\n",
    "print(\"number of samples in the majority class cancer: \",len(majority_class_No_jaya.metastasis))\n",
    "print(\"number of samples in the minority class cancer: \",len(minority_class_Yes_jaya.metastasis))"
   ]
  },
  {
   "cell_type": "markdown",
   "id": "16cd8e90",
   "metadata": {},
   "source": [
    "### Starting with RandomOversampling"
   ]
  },
  {
   "cell_type": "code",
   "execution_count": 76,
   "id": "a9f695c1",
   "metadata": {},
   "outputs": [
    {
     "name": "stdout",
     "output_type": "stream",
     "text": [
      "Checking the shape of our data once more: \n",
      " 0    6193\n",
      "1    6193\n",
      "Name: metastasis, dtype: int64\n"
     ]
    }
   ],
   "source": [
    "# Upsample minority class to equal majority class\n",
    "minority_upsample_jaya = resample(minority_class_Yes_jaya, replace = True, n_samples = len(majority_class_No_jaya), random_state = random_state)\n",
    "data_combined_upsample_jaya = pd.concat([majority_class_No_jaya, minority_upsample_jaya])\n",
    "print(\"Checking the shape of our data once more: \\n\", data_combined_upsample_jaya.metastasis.value_counts())"
   ]
  },
  {
   "cell_type": "markdown",
   "id": "84b3ed61",
   "metadata": {},
   "source": [
    "### RandomDownsampling"
   ]
  },
  {
   "cell_type": "code",
   "execution_count": 77,
   "id": "8ba8833b",
   "metadata": {},
   "outputs": [
    {
     "name": "stdout",
     "output_type": "stream",
     "text": [
      "Checking the shape of our data once more: \n",
      " 0    533\n",
      "1    533\n",
      "Name: metastasis, dtype: int64\n"
     ]
    }
   ],
   "source": [
    "# Downsample the majority class\n",
    "# Perform downsampling\n",
    "majority_downsampled_jaya = resample(majority_class_No_jaya, replace=False, n_samples=len(minority_class_Yes_jaya), random_state=random_state)\n",
    "data_combined_downsample_jaya = pd.concat([majority_downsampled_jaya, minority_class_Yes_jaya])\n",
    "print(\"Checking the shape of our data once more: \\n\", data_combined_downsample_jaya.metastasis.value_counts())"
   ]
  },
  {
   "cell_type": "markdown",
   "id": "a72eb60b",
   "metadata": {},
   "source": [
    "### SMOTE Technique"
   ]
  },
  {
   "cell_type": "code",
   "execution_count": 78,
   "id": "07f18c5b",
   "metadata": {},
   "outputs": [],
   "source": [
    "#Now lets use the SMOTE technique to handle the imbalance data issues\n",
    "smote = SMOTE(random_state = random_state, k_neighbors=5)\n",
    "features_SMOTE_jaya, target_SMOTE_jaya = smote.fit_resample(Selected_feature_JA, target)"
   ]
  },
  {
   "cell_type": "code",
   "execution_count": 79,
   "id": "6e560dec",
   "metadata": {},
   "outputs": [
    {
     "data": {
      "text/plain": [
       "metastasis\n",
       "0             6193\n",
       "1             6193\n",
       "dtype: int64"
      ]
     },
     "execution_count": 79,
     "metadata": {},
     "output_type": "execute_result"
    }
   ],
   "source": [
    "#Checking to see if SMOTE works\n",
    "target_SMOTE_chi.value_counts() "
   ]
  },
  {
   "cell_type": "markdown",
   "id": "8952da8f",
   "metadata": {},
   "source": [
    "### Now we again pass our balanced JAYA dataset to our NN, but first lets prepare them"
   ]
  },
  {
   "cell_type": "markdown",
   "id": "bfb57b60",
   "metadata": {},
   "source": [
    "#### Preparing Upsampled Data"
   ]
  },
  {
   "cell_type": "code",
   "execution_count": 80,
   "id": "d689351a",
   "metadata": {},
   "outputs": [],
   "source": [
    "#Now we split out balanced dataset into features and target class\n",
    "features_up_jaya = data_combined_upsample_jaya.drop(['metastasis'],axis = 1) #Selecting all independent varibles\n",
    "target_up_jaya = data_combined_upsample_jaya.loc[:,['metastasis']] #Picking only the target class"
   ]
  },
  {
   "cell_type": "markdown",
   "id": "8c696368",
   "metadata": {},
   "source": [
    "#### Preparing Downsampled data"
   ]
  },
  {
   "cell_type": "code",
   "execution_count": 81,
   "id": "31f5fcaf",
   "metadata": {},
   "outputs": [],
   "source": [
    "#Now we split out balanced dataset into features and target class\n",
    "features_down_jaya = data_combined_downsample_jaya.drop(['metastasis'],axis = 1) #Selecting all independent varibles\n",
    "target_down_jaya = data_combined_downsample_jaya.loc[:,['metastasis']] #Picking only the target class"
   ]
  },
  {
   "cell_type": "markdown",
   "id": "6299d7f6",
   "metadata": {},
   "source": [
    "#### Preparing SMOTE"
   ]
  },
  {
   "cell_type": "code",
   "execution_count": 82,
   "id": "cf2f2284",
   "metadata": {},
   "outputs": [],
   "source": [
    "#Now we split out balanced dataset into features and target class\n",
    "#features_SMOTE_jaya\n",
    "#target_SMOTE_jaya"
   ]
  },
  {
   "cell_type": "markdown",
   "id": "444a8350",
   "metadata": {},
   "source": [
    "### Next is using JAYA FEATURES (with Upsampled data, downsampled data, and SMOTE data)"
   ]
  },
  {
   "cell_type": "markdown",
   "id": "3cf60f49",
   "metadata": {},
   "source": [
    "#### We start using the upsampled data with JAYA features"
   ]
  },
  {
   "cell_type": "code",
   "execution_count": 83,
   "id": "af808e29",
   "metadata": {},
   "outputs": [
    {
     "name": "stdout",
     "output_type": "stream",
     "text": [
      "Epoch 1/10\n",
      "244/244 [==============================] - 2s 4ms/step - loss: 0.6098 - acc: 0.6890 - val_loss: 0.5679 - val_acc: 0.7151\n",
      "Epoch 2/10\n",
      "244/244 [==============================] - 1s 3ms/step - loss: 0.5793 - acc: 0.7127 - val_loss: 0.5623 - val_acc: 0.7151\n",
      "Epoch 3/10\n",
      "244/244 [==============================] - 1s 3ms/step - loss: 0.5743 - acc: 0.7125 - val_loss: 0.5607 - val_acc: 0.7151\n",
      "Epoch 4/10\n",
      "244/244 [==============================] - 1s 3ms/step - loss: 0.5712 - acc: 0.7124 - val_loss: 0.5581 - val_acc: 0.7266\n",
      "Epoch 5/10\n",
      "244/244 [==============================] - 1s 3ms/step - loss: 0.5717 - acc: 0.7129 - val_loss: 0.5586 - val_acc: 0.7266\n",
      "Epoch 6/10\n",
      "244/244 [==============================] - 1s 3ms/step - loss: 0.5705 - acc: 0.7178 - val_loss: 0.5569 - val_acc: 0.7301\n",
      "Epoch 7/10\n",
      "244/244 [==============================] - 1s 3ms/step - loss: 0.5659 - acc: 0.7183 - val_loss: 0.5563 - val_acc: 0.7290\n",
      "Epoch 8/10\n",
      "244/244 [==============================] - 1s 3ms/step - loss: 0.5653 - acc: 0.7177 - val_loss: 0.5572 - val_acc: 0.7278\n",
      "Epoch 9/10\n",
      "244/244 [==============================] - 1s 3ms/step - loss: 0.5635 - acc: 0.7175 - val_loss: 0.5633 - val_acc: 0.7197\n",
      "Epoch 10/10\n",
      "244/244 [==============================] - 1s 3ms/step - loss: 0.5648 - acc: 0.7166 - val_loss: 0.5569 - val_acc: 0.7290\n",
      "117/117 [==============================] - 0s 2ms/step - loss: 0.5576 - acc: 0.7217\n",
      "117/117 [==============================] - 0s 2ms/step\n",
      "Loss using JAYA features with upsampled data: 0.5576\n",
      "Accuracy using JAYA features with upsampled data: 0.7217\n",
      "F1 Score using JAYA features with upsampled data: 0.7374\n",
      "Sensitivity (Recall) using JAYA features with upsampled data: 0.7878\n",
      "Specificity using JAYA features with upsampled data: 0.6567\n"
     ]
    }
   ],
   "source": [
    "# Split data into training and testing sets\n",
    "X_train, X_test, y_train, y_test = train_test_split(features_up_jaya, target_up_jaya, test_size=0.3, random_state=random_state)\n",
    "\n",
    "min_max_scale = MinMaxScaler()\n",
    "X_train_scaled = min_max_scale.fit_transform(X_train)\n",
    "X_test_scaled = min_max_scale.transform(X_test)\n",
    "\n",
    "# Define neural network model\n",
    "model_jaya_up = Sequential()\n",
    "model_jaya_up.add(Dense(64, activation = 'relu', input_shape = (X_train.shape[1],)))\n",
    "model_jaya_up.add(Dropout(0.2))\n",
    "model_jaya_up.add(Dense(32, activation = 'relu'))\n",
    "model_jaya_up.add(Dropout(0.2))\n",
    "model_jaya_up.add(Dense(1, activation = 'sigmoid'))\n",
    "\n",
    "model_jaya_up.compile(optimizer = 'adam', loss = 'binary_crossentropy', metrics = ['acc'])\n",
    "model_jaya_up.fit(X_train_scaled, y_train, epochs = 10, batch_size = 32, validation_split = 0.1, verbose = 1)\n",
    "\n",
    "loss, accuracy = model_jaya_up.evaluate(X_test_scaled, y_test)\n",
    "\n",
    "y_pred = model_jaya_up.predict(X_test_scaled)\n",
    "y_pred_binary = (y_pred > 0.5).astype(int)\n",
    "\n",
    "# Calculate evaluation metrics\n",
    "print(\"Loss using JAYA features with upsampled data:\", round(loss, 4))\n",
    "print(\"Accuracy using JAYA features with upsampled data:\", round(accuracy, 4))\n",
    "print(\"F1 Score using JAYA features with upsampled data:\", round(f1_score(y_test, y_pred_binary), 4))\n",
    "print(\"Sensitivity (Recall) using JAYA features with upsampled data:\", round(recall_score(y_test, y_pred_binary), 4))\n",
    "print(\"Specificity using JAYA features with upsampled data:\", round(recall_score(y_test, y_pred_binary, pos_label=0), 4))\n"
   ]
  },
  {
   "cell_type": "markdown",
   "id": "19f27998",
   "metadata": {},
   "source": [
    "#### We using the downsampled data with JAYA Features"
   ]
  },
  {
   "cell_type": "code",
   "execution_count": 84,
   "id": "1ec8626f",
   "metadata": {},
   "outputs": [
    {
     "name": "stdout",
     "output_type": "stream",
     "text": [
      "Epoch 1/10\n",
      "21/21 [==============================] - 2s 17ms/step - loss: 0.6973 - acc: 0.5246 - val_loss: 0.6733 - val_acc: 0.7867\n",
      "Epoch 2/10\n",
      "21/21 [==============================] - 0s 6ms/step - loss: 0.6710 - acc: 0.6170 - val_loss: 0.6387 - val_acc: 0.8133\n",
      "Epoch 3/10\n",
      "21/21 [==============================] - 0s 5ms/step - loss: 0.6517 - acc: 0.6900 - val_loss: 0.6050 - val_acc: 0.8000\n",
      "Epoch 4/10\n",
      "21/21 [==============================] - 0s 5ms/step - loss: 0.6335 - acc: 0.6781 - val_loss: 0.5754 - val_acc: 0.8000\n",
      "Epoch 5/10\n",
      "21/21 [==============================] - 0s 5ms/step - loss: 0.6135 - acc: 0.6945 - val_loss: 0.5475 - val_acc: 0.8000\n",
      "Epoch 6/10\n",
      "21/21 [==============================] - 0s 5ms/step - loss: 0.6057 - acc: 0.6975 - val_loss: 0.5340 - val_acc: 0.7867\n",
      "Epoch 7/10\n",
      "21/21 [==============================] - 0s 7ms/step - loss: 0.5971 - acc: 0.7034 - val_loss: 0.5207 - val_acc: 0.7867\n",
      "Epoch 8/10\n",
      "21/21 [==============================] - 0s 6ms/step - loss: 0.5882 - acc: 0.6990 - val_loss: 0.5178 - val_acc: 0.7867\n",
      "Epoch 9/10\n",
      "21/21 [==============================] - 0s 5ms/step - loss: 0.6029 - acc: 0.7004 - val_loss: 0.5142 - val_acc: 0.7867\n",
      "Epoch 10/10\n",
      "21/21 [==============================] - 0s 5ms/step - loss: 0.5873 - acc: 0.7079 - val_loss: 0.5144 - val_acc: 0.7867\n",
      "10/10 [==============================] - 0s 3ms/step - loss: 0.6005 - acc: 0.6719\n",
      "10/10 [==============================] - 0s 2ms/step\n",
      "Loss using JAYA features with downsampled data: 0.6005\n",
      "Accuracy using JAYA features with downsampled data: 0.6719\n",
      "F1 Score using JAYA features with downsampled data: 0.6708\n",
      "Sensitivity (Recall) using JAYA features with downsampled data: 0.7086\n",
      "Specificity using JAYA features with downsampled data: 0.6391\n"
     ]
    }
   ],
   "source": [
    "# Split data into training and testing sets\n",
    "X_train, X_test, y_train, y_test = train_test_split(features_down_jaya, target_down_jaya, test_size=0.3, random_state=random_state)\n",
    "\n",
    "min_max_scale = MinMaxScaler()\n",
    "X_train_scaled = min_max_scale.fit_transform(X_train)\n",
    "X_test_scaled = min_max_scale.transform(X_test)\n",
    "\n",
    "# Define neural network model\n",
    "model_jaya_down = Sequential()\n",
    "model_jaya_down.add(Dense(64, activation = 'relu', input_shape = (X_train.shape[1],)))\n",
    "model_jaya_down.add(Dropout(0.2))\n",
    "model_jaya_down.add(Dense(32, activation = 'relu'))\n",
    "model_jaya_down.add(Dropout(0.2))\n",
    "model_jaya_down.add(Dense(1, activation = 'sigmoid'))\n",
    "\n",
    "model_jaya_down.compile(optimizer = 'adam', loss = 'binary_crossentropy', metrics = ['acc'])\n",
    "model_jaya_down.fit(X_train_scaled, y_train, epochs = 10, batch_size = 32, validation_split = 0.1, verbose = 1)\n",
    "\n",
    "loss, accuracy = model_jaya_down.evaluate(X_test_scaled, y_test)\n",
    "\n",
    "y_pred = model_jaya_down.predict(X_test_scaled)\n",
    "y_pred_binary = (y_pred > 0.5).astype(int)\n",
    "\n",
    "# Calculate evaluation metrics\n",
    "print(\"Loss using JAYA features with downsampled data:\", round(loss, 4))\n",
    "print(\"Accuracy using JAYA features with downsampled data:\", round(accuracy, 4))\n",
    "print(\"F1 Score using JAYA features with downsampled data:\", round(f1_score(y_test, y_pred_binary), 4))\n",
    "print(\"Sensitivity (Recall) using JAYA features with downsampled data:\", round(recall_score(y_test, y_pred_binary), 4))\n",
    "print(\"Specificity using JAYA features with downsampled data:\", round(recall_score(y_test, y_pred_binary, pos_label=0), 4))"
   ]
  },
  {
   "cell_type": "markdown",
   "id": "235de00e",
   "metadata": {},
   "source": [
    "#### We using the SMOTE data with JAYA features"
   ]
  },
  {
   "cell_type": "code",
   "execution_count": 85,
   "id": "38dcad9c",
   "metadata": {},
   "outputs": [
    {
     "name": "stdout",
     "output_type": "stream",
     "text": [
      "Epoch 1/10\n",
      "244/244 [==============================] - 2s 4ms/step - loss: 0.6024 - acc: 0.6937 - val_loss: 0.5847 - val_acc: 0.7128\n",
      "Epoch 2/10\n",
      "244/244 [==============================] - 1s 3ms/step - loss: 0.5747 - acc: 0.7169 - val_loss: 0.5836 - val_acc: 0.7140\n",
      "Epoch 3/10\n",
      "244/244 [==============================] - 1s 3ms/step - loss: 0.5727 - acc: 0.7204 - val_loss: 0.5797 - val_acc: 0.7093\n",
      "Epoch 4/10\n",
      "244/244 [==============================] - 1s 3ms/step - loss: 0.5684 - acc: 0.7183 - val_loss: 0.5783 - val_acc: 0.7116\n",
      "Epoch 5/10\n",
      "244/244 [==============================] - 1s 3ms/step - loss: 0.5663 - acc: 0.7216 - val_loss: 0.5817 - val_acc: 0.7116\n",
      "Epoch 6/10\n",
      "244/244 [==============================] - 1s 3ms/step - loss: 0.5661 - acc: 0.7232 - val_loss: 0.5800 - val_acc: 0.7116\n",
      "Epoch 7/10\n",
      "244/244 [==============================] - 1s 3ms/step - loss: 0.5657 - acc: 0.7240 - val_loss: 0.5777 - val_acc: 0.7116\n",
      "Epoch 8/10\n",
      "244/244 [==============================] - 1s 3ms/step - loss: 0.5633 - acc: 0.7238 - val_loss: 0.5797 - val_acc: 0.7093\n",
      "Epoch 9/10\n",
      "244/244 [==============================] - 1s 3ms/step - loss: 0.5625 - acc: 0.7273 - val_loss: 0.5796 - val_acc: 0.7059\n",
      "Epoch 10/10\n",
      "244/244 [==============================] - 1s 3ms/step - loss: 0.5629 - acc: 0.7237 - val_loss: 0.5787 - val_acc: 0.7116\n",
      "117/117 [==============================] - 0s 3ms/step - loss: 0.5735 - acc: 0.7126\n",
      "117/117 [==============================] - 0s 2ms/step\n",
      "Loss using JAYA features with SMOTE data: 0.5735\n",
      "Accuracy using JAYA features with SMOTE data: 0.7126\n",
      "F1 Score using JAYA features with SMOTE data: 0.7259\n",
      "Sensitivity (Recall) using JAYA features with SMOTE data: 0.7594\n",
      "Specificity using JAYA features with SMOTE data: 0.6656\n"
     ]
    }
   ],
   "source": [
    "# Split data into training and testing sets\n",
    "X_train, X_test, y_train, y_test = train_test_split(features_SMOTE_jaya, target_SMOTE_jaya, test_size=0.3, random_state=random_state)\n",
    "\n",
    "min_max_scale = MinMaxScaler()\n",
    "X_train_scaled = min_max_scale.fit_transform(X_train)\n",
    "X_test_scaled = min_max_scale.transform(X_test)\n",
    "\n",
    "# Define neural network model\n",
    "model_jaya_SMOTE = Sequential()\n",
    "model_jaya_SMOTE.add(Dense(64, activation = 'relu', input_shape = (X_train.shape[1],)))\n",
    "model_jaya_SMOTE.add(Dropout(0.2))\n",
    "model_jaya_SMOTE.add(Dense(32, activation = 'relu'))\n",
    "model_jaya_SMOTE.add(Dropout(0.2))\n",
    "model_jaya_SMOTE.add(Dense(1, activation = 'sigmoid'))\n",
    "\n",
    "model_jaya_SMOTE.compile(optimizer = 'adam', loss = 'binary_crossentropy', metrics = ['acc'])\n",
    "model_jaya_SMOTE.fit(X_train_scaled, y_train, epochs = 10, batch_size = 32, validation_split = 0.1, verbose = 1)\n",
    "\n",
    "loss, accuracy = model_jaya_SMOTE.evaluate(X_test_scaled, y_test)\n",
    "\n",
    "y_pred = model_jaya_SMOTE.predict(X_test_scaled)\n",
    "y_pred_binary = (y_pred > 0.5).astype(int)\n",
    "\n",
    "# Calculate evaluation metrics\n",
    "print(\"Loss using JAYA features with SMOTE data:\", round(loss, 4))\n",
    "print(\"Accuracy using JAYA features with SMOTE data:\", round(accuracy, 4))\n",
    "print(\"F1 Score using JAYA features with SMOTE data:\", round(f1_score(y_test, y_pred_binary), 4))\n",
    "print(\"Sensitivity (Recall) using JAYA features with SMOTE data:\", round(recall_score(y_test, y_pred_binary), 4))\n",
    "print(\"Specificity using JAYA features with SMOTE data:\", round(recall_score(y_test, y_pred_binary, pos_label=0), 4))"
   ]
  },
  {
   "cell_type": "code",
   "execution_count": null,
   "id": "75687a58",
   "metadata": {},
   "outputs": [],
   "source": []
  },
  {
   "cell_type": "code",
   "execution_count": null,
   "id": "49300527",
   "metadata": {},
   "outputs": [],
   "source": []
  },
  {
   "cell_type": "code",
   "execution_count": null,
   "id": "7b8c64f4",
   "metadata": {},
   "outputs": [],
   "source": []
  },
  {
   "cell_type": "code",
   "execution_count": null,
   "id": "4a21eee3",
   "metadata": {},
   "outputs": [],
   "source": []
  },
  {
   "cell_type": "code",
   "execution_count": null,
   "id": "36f8f18e",
   "metadata": {},
   "outputs": [],
   "source": []
  },
  {
   "cell_type": "code",
   "execution_count": null,
   "id": "50140d37",
   "metadata": {},
   "outputs": [],
   "source": []
  },
  {
   "cell_type": "markdown",
   "id": "2f4d377f",
   "metadata": {},
   "source": [
    "#### End of Project"
   ]
  },
  {
   "cell_type": "code",
   "execution_count": null,
   "id": "a46cfba6",
   "metadata": {},
   "outputs": [],
   "source": []
  }
 ],
 "metadata": {
  "kernelspec": {
   "display_name": "Python 3 (ipykernel)",
   "language": "python",
   "name": "python3"
  },
  "language_info": {
   "codemirror_mode": {
    "name": "ipython",
    "version": 3
   },
   "file_extension": ".py",
   "mimetype": "text/x-python",
   "name": "python",
   "nbconvert_exporter": "python",
   "pygments_lexer": "ipython3",
   "version": "3.9.13"
  }
 },
 "nbformat": 4,
 "nbformat_minor": 5
}
